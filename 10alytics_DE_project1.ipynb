{
 "cells": [
  {
   "cell_type": "code",
   "execution_count": 44,
   "metadata": {},
   "outputs": [],
   "source": [
    "import requests, json, datetime, sqlite3, psycopg2\n",
    "\n",
    "from IPython.display import JSON, display"
   ]
  },
  {
   "cell_type": "code",
   "execution_count": 15,
   "metadata": {},
   "outputs": [],
   "source": [
    "api_key = \"4eb35303954a7829e790a2f4142eedaa\""
   ]
  },
  {
   "cell_type": "code",
   "execution_count": 16,
   "metadata": {},
   "outputs": [],
   "source": [
    "city = \"Lagos\""
   ]
  },
  {
   "cell_type": "code",
   "execution_count": 17,
   "metadata": {},
   "outputs": [],
   "source": [
    "url = f\"https://api.openweathermap.org/data/2.5/weather?q={city}&appid={api_key}\""
   ]
  },
  {
   "cell_type": "code",
   "execution_count": 18,
   "metadata": {},
   "outputs": [
    {
     "name": "stdout",
     "output_type": "stream",
     "text": [
      "<Response [200]>\n"
     ]
    }
   ],
   "source": [
    "response = requests.get(url)\n",
    "print(response)"
   ]
  },
  {
   "cell_type": "code",
   "execution_count": 19,
   "metadata": {},
   "outputs": [
    {
     "name": "stdout",
     "output_type": "stream",
     "text": [
      "{'coord': {'lon': 3.75, 'lat': 6.5833}, 'weather': [{'id': 804, 'main': 'Clouds', 'description': 'overcast clouds', 'icon': '04n'}], 'base': 'stations', 'main': {'temp': 301.87, 'feels_like': 306.93, 'temp_min': 301.87, 'temp_max': 301.87, 'pressure': 1008, 'humidity': 79, 'sea_level': 1008, 'grnd_level': 1008}, 'visibility': 10000, 'wind': {'speed': 2.72, 'deg': 213, 'gust': 6.34}, 'clouds': {'all': 100}, 'dt': 1741457210, 'sys': {'country': 'NG', 'sunrise': 1741413287, 'sunset': 1741456621}, 'timezone': 3600, 'id': 2332453, 'name': 'Lagos', 'cod': 200}\n"
     ]
    }
   ],
   "source": [
    "data = response.json()\n",
    "print(data)"
   ]
  },
  {
   "cell_type": "code",
   "execution_count": 22,
   "metadata": {},
   "outputs": [],
   "source": [
    "# display(JSON(data))"
   ]
  },
  {
   "cell_type": "markdown",
   "metadata": {},
   "source": [
    "## Transformation"
   ]
  },
  {
   "cell_type": "code",
   "execution_count": 33,
   "metadata": {},
   "outputs": [],
   "source": [
    "city_name=data['name']\n",
    "temperature_celsius=data['main']['temp']\n",
    "humidity=data['main']['humidity']\n",
    "wind_speed_kmh=(data['wind']['speed'] * 60 * 60) / 1000\n",
    "weather_description=data['weather'][0]['description']\n",
    "timestamp=datetime.datetime.fromtimestamp(data['dt'])"
   ]
  },
  {
   "cell_type": "markdown",
   "metadata": {},
   "source": [
    "## Load data (using sqlite)"
   ]
  },
  {
   "cell_type": "code",
   "execution_count": 34,
   "metadata": {},
   "outputs": [],
   "source": [
    "# Create connection to sqlite database\n",
    "conn = sqlite3.connect(':memory:')"
   ]
  },
  {
   "cell_type": "code",
   "execution_count": 35,
   "metadata": {},
   "outputs": [],
   "source": [
    "# Add cursor to the connection\n",
    "cursor = conn.cursor()"
   ]
  },
  {
   "cell_type": "code",
   "execution_count": 36,
   "metadata": {},
   "outputs": [],
   "source": [
    "cursor.execute('''\n",
    "    CREATE TABLE weather_data (\n",
    "        id INTEGER PRIMARY KEY AUTOINCREMENT,\n",
    "        city TEXT,\n",
    "        temperature_celsius REAL,\n",
    "        humidity INTEGER,\n",
    "        wind_speed_kmh REAL,\n",
    "        weather_description TEXT,\n",
    "        timestamp TEXT\n",
    "    )\n",
    "''')\n",
    "\n",
    "conn.commit()"
   ]
  },
  {
   "cell_type": "code",
   "execution_count": 42,
   "metadata": {},
   "outputs": [],
   "source": [
    "cursor.execute('''\n",
    "    INSERT INTO weather_data (city, temperature_celsius, humidity, wind_speed_kmh, weather_description, timestamp)\n",
    "    VALUES (?, ?, ?, ?, ?, ?)\n",
    "''', (city_name, temperature_celsius, humidity, wind_speed_kmh, weather_description, timestamp))\n",
    "\n",
    "conn.commit()"
   ]
  },
  {
   "cell_type": "code",
   "execution_count": 48,
   "metadata": {},
   "outputs": [
    {
     "name": "stdout",
     "output_type": "stream",
     "text": [
      "(1, 'Lagos', 301.87, 79, 9.792000000000002, 'overcast clouds', datetime.datetime(2025, 3, 8, 19, 6, 50))\n"
     ]
    }
   ],
   "source": [
    "cursor.execute('''\n",
    "    SELECT * FROM weather_data\n",
    "''')\n",
    "\n",
    "rows = cursor.fetchall()\n",
    "\n",
    "for row in rows:\n",
    "    print(row)\n",
    "\n",
    "conn.close()"
   ]
  },
  {
   "cell_type": "markdown",
   "metadata": {},
   "source": [
    "## Saving to a PostgreSQL"
   ]
  },
  {
   "cell_type": "code",
   "execution_count": 55,
   "metadata": {},
   "outputs": [],
   "source": [
    "conn = psycopg2.connect(\n",
    "    host=\"localhost\",\n",
    "    database=\"weatherDB\",\n",
    "    user=\"postgres\",\n",
    "    password=\"password\"\n",
    ")\n",
    "\n",
    "cursor = conn.cursor()"
   ]
  },
  {
   "cell_type": "code",
   "execution_count": 51,
   "metadata": {},
   "outputs": [],
   "source": [
    "insert_query = '''\n",
    "    INSERT INTO weather_data (city, temperature_celsius, humidity, wind_speed_kmh, weather_description, timestamp)\n",
    "    VALUES (%s, %s, %s, %s, %s, %s)\n",
    "'''\n",
    "\n",
    "cursor.execute(insert_query, (city_name, temperature_celsius, humidity, wind_speed_kmh, weather_description, timestamp))\n",
    "conn.commit()"
   ]
  },
  {
   "cell_type": "code",
   "execution_count": 57,
   "metadata": {},
   "outputs": [
    {
     "name": "stdout",
     "output_type": "stream",
     "text": [
      "(1, 'Lagos', 301.87, 79, 9.792000000000002, 'overcast clouds', datetime.datetime(2025, 3, 8, 19, 6, 50))\n"
     ]
    }
   ],
   "source": [
    "cursor.execute('''\n",
    "    SELECT * FROM weather_data\n",
    "''')\n",
    "\n",
    "rows = cursor.fetchall()\n",
    "\n",
    "for row in rows:\n",
    "    print(row)\n",
    "\n",
    "conn.close()"
   ]
  },
  {
   "cell_type": "code",
   "execution_count": null,
   "metadata": {},
   "outputs": [],
   "source": []
  }
 ],
 "metadata": {
  "kernelspec": {
   "display_name": "Python 3",
   "language": "python",
   "name": "python3"
  },
  "language_info": {
   "codemirror_mode": {
    "name": "ipython",
    "version": 3
   },
   "file_extension": ".py",
   "mimetype": "text/x-python",
   "name": "python",
   "nbconvert_exporter": "python",
   "pygments_lexer": "ipython3",
   "version": "3.10.11"
  }
 },
 "nbformat": 4,
 "nbformat_minor": 2
}
