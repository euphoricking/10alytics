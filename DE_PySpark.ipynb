{
 "cells": [
  {
   "cell_type": "code",
   "execution_count": null,
   "metadata": {},
   "outputs": [],
   "source": [
    "# !pip install pyspark\n",
    "# !pip install findspark\n",
    "# !pip install py4j\n",
    "# !pip install ipykernel"
   ]
  },
  {
   "cell_type": "code",
   "execution_count": null,
   "metadata": {},
   "outputs": [],
   "source": [
    "# from pyspark.sql import SparkSession\n",
    "\n",
    "# spark = SparkSession.builder.master(\"local\").appName(\"PySpark Installation Test\").getOrCreate()\n",
    "# df = spark.createDataFrame([(1, \"Hello\"), (2, \"World\")], [\"id\", \"message\"])\n",
    "# df.show()"
   ]
  },
  {
   "cell_type": "code",
   "execution_count": 1,
   "metadata": {},
   "outputs": [
    {
     "name": "stdout",
     "output_type": "stream",
     "text": [
      "3.5.5\n"
     ]
    }
   ],
   "source": [
    "import pyspark\n",
    "print(pyspark.__version__)"
   ]
  },
  {
   "cell_type": "code",
   "execution_count": 2,
   "metadata": {},
   "outputs": [
    {
     "name": "stdout",
     "output_type": "stream",
     "text": [
      "<pyspark.sql.session.SparkSession object at 0x000001AF99760D30>\n"
     ]
    }
   ],
   "source": [
    "from pyspark.sql import SparkSession\n",
    "\n",
    "# Spark session\n",
    "spark = SparkSession.builder \\\n",
    "    .appName(\"MySparkApp\") \\\n",
    "    .master(\"local[*]\") \\\n",
    "    .getOrCreate()\n",
    "\n",
    "# Spark session details\n",
    "print(spark)"
   ]
  },
  {
   "cell_type": "code",
   "execution_count": null,
   "metadata": {},
   "outputs": [
    {
     "name": "stdout",
     "output_type": "stream",
     "text": [
      "+---+---+-------+\n",
      "|age| id|   name|\n",
      "+---+---+-------+\n",
      "| 28|  1|  Alice|\n",
      "| 35|  2|    Bob|\n",
      "| 30|  3|Charlie|\n",
      "+---+---+-------+\n",
      "\n"
     ]
    }
   ],
   "source": [
    "# data\n",
    "data = [\n",
    "    {\"id\": 1, \"name\": \"Alice\", \"age\": 28},\n",
    "    {\"id\": 2, \"name\": \"Bob\", \"age\": 35},\n",
    "    {\"id\": 3, \"name\": \"Charlie\", \"age\": 30}\n",
    "]\n",
    "\n",
    "# DataFrame\n",
    "df = spark.createDataFrame(data)\n",
    "\n",
    "# Display data\n",
    "df.show()"
   ]
  },
  {
   "cell_type": "code",
   "execution_count": null,
   "metadata": {},
   "outputs": [
    {
     "name": "stdout",
     "output_type": "stream",
     "text": [
      "+--------------------+-----------+-------------------------+\n",
      "|     Geographic Area|Postal Code|Total Resident Population|\n",
      "+--------------------+-----------+-------------------------+\n",
      "|       United States|       NULL|                328239523|\n",
      "|           Northeast|       NULL|                 55982803|\n",
      "|             Midwest|       NULL|                 68329004|\n",
      "|               South|       NULL|                125580448|\n",
      "|                West|       NULL|                 78347268|\n",
      "|             Alabama|         AL|                  4903185|\n",
      "|              Alaska|         AK|                   731545|\n",
      "|             Arizona|         AZ|                  7278717|\n",
      "|            Arkansas|         AR|                  3017804|\n",
      "|          California|         CA|                 39512223|\n",
      "|            Colorado|         CO|                  5758736|\n",
      "|         Connecticut|         CT|                  3565287|\n",
      "|            Delaware|         DE|                   973764|\n",
      "|District of Columbia|         DC|                   705749|\n",
      "|             Florida|         FL|                 21477737|\n",
      "|             Georgia|         GA|                 10617423|\n",
      "|              Hawaii|         HI|                  1415872|\n",
      "|               Idaho|         ID|                  1787065|\n",
      "|            Illinois|         IL|                 12671821|\n",
      "|             Indiana|         IN|                  6732219|\n",
      "+--------------------+-----------+-------------------------+\n",
      "only showing top 20 rows\n",
      "\n"
     ]
    }
   ],
   "source": [
    "# CSV file pyto a DataFrame\n",
    "df = spark.read.csv(\"C:/Users/Leo/Downloads/Portfolio-projects/GIS & Geospatial Analysis with Python, Geopandas, and Folium/Geospatial Data/usa_population_2019.csv\", header=True, inferSchema=True)\n",
    "\n",
    "# Show the first few rows\n",
    "df.show()"
   ]
  },
  {
   "cell_type": "code",
   "execution_count": 8,
   "metadata": {},
   "outputs": [],
   "source": [
    "from pyspark.sql import SparkSession"
   ]
  },
  {
   "cell_type": "code",
   "execution_count": 10,
   "metadata": {},
   "outputs": [],
   "source": [
    "spark = SparkSession.builder \\\n",
    "    .appName(\"MySparkApp\") \\\n",
    "    .master(\"local[*]\") \\\n",
    "    .getOrCreate()"
   ]
  },
  {
   "cell_type": "code",
   "execution_count": 11,
   "metadata": {},
   "outputs": [
    {
     "name": "stdout",
     "output_type": "stream",
     "text": [
      "Spark version: 3.5.5\n"
     ]
    }
   ],
   "source": [
    "print(f\"Spark version: {spark.version}\")"
   ]
  },
  {
   "cell_type": "code",
   "execution_count": 12,
   "metadata": {},
   "outputs": [],
   "source": [
    "data = [('James', 25), ('Michael', 29), ('Robert', 23), ('Maria', 28), ('Jen', 34)]\n",
    "\n",
    "df = spark.createDataFrame(data, schema=['Name', 'Age'])"
   ]
  },
  {
   "cell_type": "code",
   "execution_count": 13,
   "metadata": {},
   "outputs": [
    {
     "name": "stdout",
     "output_type": "stream",
     "text": [
      "+-------+---+\n",
      "|   Name|Age|\n",
      "+-------+---+\n",
      "|  James| 25|\n",
      "|Michael| 29|\n",
      "| Robert| 23|\n",
      "|  Maria| 28|\n",
      "|    Jen| 34|\n",
      "+-------+---+\n",
      "\n"
     ]
    }
   ],
   "source": [
    "df.show()"
   ]
  },
  {
   "cell_type": "code",
   "execution_count": 14,
   "metadata": {},
   "outputs": [
    {
     "name": "stdout",
     "output_type": "stream",
     "text": [
      "+----------+------+--------+---+---------------------------------+-----+---------------+---------------+---------------+----------------+------------------+-------------------------+-----------+---------+--------------------+---------------+----------+----------------+-----------+-------------+--------------+\n",
      "|      Date|Source| Site ID|POC|Daily Max 8-hour CO Concentration|Units|Daily AQI Value|Local Site Name|Daily Obs Count|Percent Complete|AQS Parameter Code|AQS Parameter Description|Method Code|CBSA Code|           CBSA Name|State FIPS Code|     State|County FIPS Code|     County|Site Latitude|Site Longitude|\n",
      "+----------+------+--------+---+---------------------------------+-----+---------------+---------------+---------------+----------------+------------------+-------------------------+-----------+---------+--------------------+---------------+----------+----------------+-----------+-------------+--------------+\n",
      "|01/01/2024|   AQS|60370016|  2|                              0.2|  ppm|              2|       Glendora|             19|            79.0|             42101|          Carbon monoxide|        158|    31080|Los Angeles-Long ...|              6|California|              37|Los Angeles|     34.14435|    -117.85036|\n",
      "|01/02/2024|   AQS|60370016|  2|                              0.3|  ppm|              3|       Glendora|             24|           100.0|             42101|          Carbon monoxide|        158|    31080|Los Angeles-Long ...|              6|California|              37|Los Angeles|     34.14435|    -117.85036|\n",
      "|01/03/2024|   AQS|60370016|  2|                              0.3|  ppm|              3|       Glendora|             24|           100.0|             42101|          Carbon monoxide|        158|    31080|Los Angeles-Long ...|              6|California|              37|Los Angeles|     34.14435|    -117.85036|\n",
      "|01/04/2024|   AQS|60370016|  2|                              0.3|  ppm|              3|       Glendora|             24|           100.0|             42101|          Carbon monoxide|        158|    31080|Los Angeles-Long ...|              6|California|              37|Los Angeles|     34.14435|    -117.85036|\n",
      "|01/05/2024|   AQS|60370016|  2|                              0.3|  ppm|              3|       Glendora|             17|            71.0|             42101|          Carbon monoxide|        158|    31080|Los Angeles-Long ...|              6|California|              37|Los Angeles|     34.14435|    -117.85036|\n",
      "|01/06/2024|   AQS|60370016|  2|                              0.3|  ppm|              3|       Glendora|             24|           100.0|             42101|          Carbon monoxide|        158|    31080|Los Angeles-Long ...|              6|California|              37|Los Angeles|     34.14435|    -117.85036|\n",
      "|01/07/2024|   AQS|60370016|  2|                              0.3|  ppm|              3|       Glendora|             24|           100.0|             42101|          Carbon monoxide|        158|    31080|Los Angeles-Long ...|              6|California|              37|Los Angeles|     34.14435|    -117.85036|\n",
      "|01/08/2024|   AQS|60370016|  2|                              0.2|  ppm|              2|       Glendora|             24|           100.0|             42101|          Carbon monoxide|        158|    31080|Los Angeles-Long ...|              6|California|              37|Los Angeles|     34.14435|    -117.85036|\n",
      "|01/09/2024|   AQS|60370016|  2|                              0.3|  ppm|              3|       Glendora|             24|           100.0|             42101|          Carbon monoxide|        158|    31080|Los Angeles-Long ...|              6|California|              37|Los Angeles|     34.14435|    -117.85036|\n",
      "|01/10/2024|   AQS|60370016|  2|                              0.3|  ppm|              3|       Glendora|             24|           100.0|             42101|          Carbon monoxide|        158|    31080|Los Angeles-Long ...|              6|California|              37|Los Angeles|     34.14435|    -117.85036|\n",
      "|01/11/2024|   AQS|60370016|  2|                              0.3|  ppm|              3|       Glendora|             24|           100.0|             42101|          Carbon monoxide|        158|    31080|Los Angeles-Long ...|              6|California|              37|Los Angeles|     34.14435|    -117.85036|\n",
      "|01/12/2024|   AQS|60370016|  2|                              0.3|  ppm|              3|       Glendora|             24|           100.0|             42101|          Carbon monoxide|        158|    31080|Los Angeles-Long ...|              6|California|              37|Los Angeles|     34.14435|    -117.85036|\n",
      "|01/13/2024|   AQS|60370016|  2|                              0.4|  ppm|              5|       Glendora|             24|           100.0|             42101|          Carbon monoxide|        158|    31080|Los Angeles-Long ...|              6|California|              37|Los Angeles|     34.14435|    -117.85036|\n",
      "|01/16/2024|   AQS|60370016|  2|                              0.5|  ppm|              6|       Glendora|              6|            25.0|             42101|          Carbon monoxide|        158|    31080|Los Angeles-Long ...|              6|California|              37|Los Angeles|     34.14435|    -117.85036|\n",
      "|01/17/2024|   AQS|60370016|  2|                              0.5|  ppm|              6|       Glendora|             24|           100.0|             42101|          Carbon monoxide|        158|    31080|Los Angeles-Long ...|              6|California|              37|Los Angeles|     34.14435|    -117.85036|\n",
      "|01/18/2024|   AQS|60370016|  2|                              0.4|  ppm|              5|       Glendora|             24|           100.0|             42101|          Carbon monoxide|        158|    31080|Los Angeles-Long ...|              6|California|              37|Los Angeles|     34.14435|    -117.85036|\n",
      "|01/19/2024|   AQS|60370016|  2|                              0.5|  ppm|              6|       Glendora|             24|           100.0|             42101|          Carbon monoxide|        158|    31080|Los Angeles-Long ...|              6|California|              37|Los Angeles|     34.14435|    -117.85036|\n",
      "|01/20/2024|   AQS|60370016|  2|                              0.5|  ppm|              6|       Glendora|             24|           100.0|             42101|          Carbon monoxide|        158|    31080|Los Angeles-Long ...|              6|California|              37|Los Angeles|     34.14435|    -117.85036|\n",
      "|01/21/2024|   AQS|60370016|  2|                              0.2|  ppm|              2|       Glendora|             24|           100.0|             42101|          Carbon monoxide|        158|    31080|Los Angeles-Long ...|              6|California|              37|Los Angeles|     34.14435|    -117.85036|\n",
      "|01/22/2024|   AQS|60370016|  2|                              0.2|  ppm|              2|       Glendora|             24|           100.0|             42101|          Carbon monoxide|        158|    31080|Los Angeles-Long ...|              6|California|              37|Los Angeles|     34.14435|    -117.85036|\n",
      "+----------+------+--------+---+---------------------------------+-----+---------------+---------------+---------------+----------------+------------------+-------------------------+-----------+---------+--------------------+---------------+----------+----------------+-----------+-------------+--------------+\n",
      "only showing top 20 rows\n",
      "\n"
     ]
    }
   ],
   "source": [
    "sample_df = spark.read.csv(\"C:/Users/Leo/Downloads/Portfolio-projects/GIS & Geospatial Analysis with Python, Geopandas, and Folium/Geospatial Data/ad_viz_plotval_data.csv\", header=True, inferSchema=True)\n",
    "\n",
    "sample_df.show()"
   ]
  },
  {
   "cell_type": "code",
   "execution_count": 22,
   "metadata": {},
   "outputs": [],
   "source": [
    "from pyspark.sql.functions import col, lit, round, avg, isnan, when, count, isnull, isnotnull"
   ]
  },
  {
   "cell_type": "code",
   "execution_count": 20,
   "metadata": {},
   "outputs": [],
   "source": [
    "sample_df = sample_df.withColumn(\"Net Salary\", round(col(\"Site Latitude\") * 0.9))"
   ]
  },
  {
   "cell_type": "code",
   "execution_count": 21,
   "metadata": {},
   "outputs": [
    {
     "name": "stdout",
     "output_type": "stream",
     "text": [
      "+----------+------+--------+---+---------------------------------+-----+---------------+---------------+---------------+----------------+------------------+-------------------------+-----------+---------+--------------------+---------------+----------+----------------+-----------+-------------+--------------+----------+\n",
      "|      Date|Source| Site ID|POC|Daily Max 8-hour CO Concentration|Units|Daily AQI Value|Local Site Name|Daily Obs Count|Percent Complete|AQS Parameter Code|AQS Parameter Description|Method Code|CBSA Code|           CBSA Name|State FIPS Code|     State|County FIPS Code|     County|Site Latitude|Site Longitude|Net Salary|\n",
      "+----------+------+--------+---+---------------------------------+-----+---------------+---------------+---------------+----------------+------------------+-------------------------+-----------+---------+--------------------+---------------+----------+----------------+-----------+-------------+--------------+----------+\n",
      "|01/01/2024|   AQS|60370016|  2|                              0.2|  ppm|              2|       Glendora|             19|            79.0|             42101|          Carbon monoxide|        158|    31080|Los Angeles-Long ...|              6|California|              37|Los Angeles|     34.14435|    -117.85036|      31.0|\n",
      "|01/02/2024|   AQS|60370016|  2|                              0.3|  ppm|              3|       Glendora|             24|           100.0|             42101|          Carbon monoxide|        158|    31080|Los Angeles-Long ...|              6|California|              37|Los Angeles|     34.14435|    -117.85036|      31.0|\n",
      "|01/03/2024|   AQS|60370016|  2|                              0.3|  ppm|              3|       Glendora|             24|           100.0|             42101|          Carbon monoxide|        158|    31080|Los Angeles-Long ...|              6|California|              37|Los Angeles|     34.14435|    -117.85036|      31.0|\n",
      "|01/04/2024|   AQS|60370016|  2|                              0.3|  ppm|              3|       Glendora|             24|           100.0|             42101|          Carbon monoxide|        158|    31080|Los Angeles-Long ...|              6|California|              37|Los Angeles|     34.14435|    -117.85036|      31.0|\n",
      "|01/05/2024|   AQS|60370016|  2|                              0.3|  ppm|              3|       Glendora|             17|            71.0|             42101|          Carbon monoxide|        158|    31080|Los Angeles-Long ...|              6|California|              37|Los Angeles|     34.14435|    -117.85036|      31.0|\n",
      "|01/06/2024|   AQS|60370016|  2|                              0.3|  ppm|              3|       Glendora|             24|           100.0|             42101|          Carbon monoxide|        158|    31080|Los Angeles-Long ...|              6|California|              37|Los Angeles|     34.14435|    -117.85036|      31.0|\n",
      "|01/07/2024|   AQS|60370016|  2|                              0.3|  ppm|              3|       Glendora|             24|           100.0|             42101|          Carbon monoxide|        158|    31080|Los Angeles-Long ...|              6|California|              37|Los Angeles|     34.14435|    -117.85036|      31.0|\n",
      "|01/08/2024|   AQS|60370016|  2|                              0.2|  ppm|              2|       Glendora|             24|           100.0|             42101|          Carbon monoxide|        158|    31080|Los Angeles-Long ...|              6|California|              37|Los Angeles|     34.14435|    -117.85036|      31.0|\n",
      "|01/09/2024|   AQS|60370016|  2|                              0.3|  ppm|              3|       Glendora|             24|           100.0|             42101|          Carbon monoxide|        158|    31080|Los Angeles-Long ...|              6|California|              37|Los Angeles|     34.14435|    -117.85036|      31.0|\n",
      "|01/10/2024|   AQS|60370016|  2|                              0.3|  ppm|              3|       Glendora|             24|           100.0|             42101|          Carbon monoxide|        158|    31080|Los Angeles-Long ...|              6|California|              37|Los Angeles|     34.14435|    -117.85036|      31.0|\n",
      "|01/11/2024|   AQS|60370016|  2|                              0.3|  ppm|              3|       Glendora|             24|           100.0|             42101|          Carbon monoxide|        158|    31080|Los Angeles-Long ...|              6|California|              37|Los Angeles|     34.14435|    -117.85036|      31.0|\n",
      "|01/12/2024|   AQS|60370016|  2|                              0.3|  ppm|              3|       Glendora|             24|           100.0|             42101|          Carbon monoxide|        158|    31080|Los Angeles-Long ...|              6|California|              37|Los Angeles|     34.14435|    -117.85036|      31.0|\n",
      "|01/13/2024|   AQS|60370016|  2|                              0.4|  ppm|              5|       Glendora|             24|           100.0|             42101|          Carbon monoxide|        158|    31080|Los Angeles-Long ...|              6|California|              37|Los Angeles|     34.14435|    -117.85036|      31.0|\n",
      "|01/16/2024|   AQS|60370016|  2|                              0.5|  ppm|              6|       Glendora|              6|            25.0|             42101|          Carbon monoxide|        158|    31080|Los Angeles-Long ...|              6|California|              37|Los Angeles|     34.14435|    -117.85036|      31.0|\n",
      "|01/17/2024|   AQS|60370016|  2|                              0.5|  ppm|              6|       Glendora|             24|           100.0|             42101|          Carbon monoxide|        158|    31080|Los Angeles-Long ...|              6|California|              37|Los Angeles|     34.14435|    -117.85036|      31.0|\n",
      "|01/18/2024|   AQS|60370016|  2|                              0.4|  ppm|              5|       Glendora|             24|           100.0|             42101|          Carbon monoxide|        158|    31080|Los Angeles-Long ...|              6|California|              37|Los Angeles|     34.14435|    -117.85036|      31.0|\n",
      "|01/19/2024|   AQS|60370016|  2|                              0.5|  ppm|              6|       Glendora|             24|           100.0|             42101|          Carbon monoxide|        158|    31080|Los Angeles-Long ...|              6|California|              37|Los Angeles|     34.14435|    -117.85036|      31.0|\n",
      "|01/20/2024|   AQS|60370016|  2|                              0.5|  ppm|              6|       Glendora|             24|           100.0|             42101|          Carbon monoxide|        158|    31080|Los Angeles-Long ...|              6|California|              37|Los Angeles|     34.14435|    -117.85036|      31.0|\n",
      "|01/21/2024|   AQS|60370016|  2|                              0.2|  ppm|              2|       Glendora|             24|           100.0|             42101|          Carbon monoxide|        158|    31080|Los Angeles-Long ...|              6|California|              37|Los Angeles|     34.14435|    -117.85036|      31.0|\n",
      "|01/22/2024|   AQS|60370016|  2|                              0.2|  ppm|              2|       Glendora|             24|           100.0|             42101|          Carbon monoxide|        158|    31080|Los Angeles-Long ...|              6|California|              37|Los Angeles|     34.14435|    -117.85036|      31.0|\n",
      "+----------+------+--------+---+---------------------------------+-----+---------------+---------------+---------------+----------------+------------------+-------------------------+-----------+---------+--------------------+---------------+----------+----------------+-----------+-------------+--------------+----------+\n",
      "only showing top 20 rows\n",
      "\n"
     ]
    }
   ],
   "source": [
    "sample_df.show()"
   ]
  },
  {
   "cell_type": "code",
   "execution_count": 23,
   "metadata": {},
   "outputs": [
    {
     "name": "stdout",
     "output_type": "stream",
     "text": [
      "+-----------------------------+\n",
      "|id,name,age,salary,department|\n",
      "+-----------------------------+\n",
      "|         1,John Doe,30,500...|\n",
      "|         2,Jane Smith,,600...|\n",
      "|         3,Bob Johnson,35,...|\n",
      "|         4,,40,80000,Marke...|\n",
      "|         5,Alice Brown,45,...|\n",
      "+-----------------------------+\n",
      "\n"
     ]
    }
   ],
   "source": [
    "sample_df = spark.read.csv(\"C:/Users/Leo/Downloads/Portfolio-projects/GIS & Geospatial Analysis with Python, Geopandas, and Folium/Geospatial Data/null.csv\", header=True, inferSchema=True)\n",
    "\n",
    "sample_df.show()"
   ]
  },
  {
   "cell_type": "code",
   "execution_count": 24,
   "metadata": {},
   "outputs": [
    {
     "ename": "AnalysisException",
     "evalue": "[UNRESOLVED_COLUMN.WITH_SUGGESTION] A column or function parameter with name `name` cannot be resolved. Did you mean one of the following? [`id,name,age,salary,department`].;\n'Filter isnull('name)\n+- Relation [id,name,age,salary,department#534] csv\n",
     "output_type": "error",
     "traceback": [
      "\u001b[1;31m---------------------------------------------------------------------------\u001b[0m",
      "\u001b[1;31mAnalysisException\u001b[0m                         Traceback (most recent call last)",
      "Cell \u001b[1;32mIn[24], line 1\u001b[0m\n\u001b[1;32m----> 1\u001b[0m \u001b[43msample_df\u001b[49m\u001b[38;5;241;43m.\u001b[39;49m\u001b[43mfilter\u001b[49m\u001b[43m(\u001b[49m\u001b[43mcol\u001b[49m\u001b[43m(\u001b[49m\u001b[38;5;124;43m\"\u001b[39;49m\u001b[38;5;124;43mname\u001b[39;49m\u001b[38;5;124;43m\"\u001b[39;49m\u001b[43m)\u001b[49m\u001b[38;5;241;43m.\u001b[39;49m\u001b[43misNull\u001b[49m\u001b[43m(\u001b[49m\u001b[43m)\u001b[49m\u001b[43m)\u001b[49m\u001b[38;5;241m.\u001b[39mshow()\n",
      "File \u001b[1;32mc:\\Users\\Leo\\.conda\\envs\\geo_soft_conda\\lib\\site-packages\\pyspark\\sql\\dataframe.py:3331\u001b[0m, in \u001b[0;36mDataFrame.filter\u001b[1;34m(self, condition)\u001b[0m\n\u001b[0;32m   3329\u001b[0m     jdf \u001b[38;5;241m=\u001b[39m \u001b[38;5;28mself\u001b[39m\u001b[38;5;241m.\u001b[39m_jdf\u001b[38;5;241m.\u001b[39mfilter(condition)\n\u001b[0;32m   3330\u001b[0m \u001b[38;5;28;01melif\u001b[39;00m \u001b[38;5;28misinstance\u001b[39m(condition, Column):\n\u001b[1;32m-> 3331\u001b[0m     jdf \u001b[38;5;241m=\u001b[39m \u001b[38;5;28;43mself\u001b[39;49m\u001b[38;5;241;43m.\u001b[39;49m\u001b[43m_jdf\u001b[49m\u001b[38;5;241;43m.\u001b[39;49m\u001b[43mfilter\u001b[49m\u001b[43m(\u001b[49m\u001b[43mcondition\u001b[49m\u001b[38;5;241;43m.\u001b[39;49m\u001b[43m_jc\u001b[49m\u001b[43m)\u001b[49m\n\u001b[0;32m   3332\u001b[0m \u001b[38;5;28;01melse\u001b[39;00m:\n\u001b[0;32m   3333\u001b[0m     \u001b[38;5;28;01mraise\u001b[39;00m PySparkTypeError(\n\u001b[0;32m   3334\u001b[0m         error_class\u001b[38;5;241m=\u001b[39m\u001b[38;5;124m\"\u001b[39m\u001b[38;5;124mNOT_COLUMN_OR_STR\u001b[39m\u001b[38;5;124m\"\u001b[39m,\n\u001b[0;32m   3335\u001b[0m         message_parameters\u001b[38;5;241m=\u001b[39m{\u001b[38;5;124m\"\u001b[39m\u001b[38;5;124marg_name\u001b[39m\u001b[38;5;124m\"\u001b[39m: \u001b[38;5;124m\"\u001b[39m\u001b[38;5;124mcondition\u001b[39m\u001b[38;5;124m\"\u001b[39m, \u001b[38;5;124m\"\u001b[39m\u001b[38;5;124marg_type\u001b[39m\u001b[38;5;124m\"\u001b[39m: \u001b[38;5;28mtype\u001b[39m(condition)\u001b[38;5;241m.\u001b[39m\u001b[38;5;18m__name__\u001b[39m},\n\u001b[0;32m   3336\u001b[0m     )\n",
      "File \u001b[1;32mc:\\Users\\Leo\\.conda\\envs\\geo_soft_conda\\lib\\site-packages\\py4j\\java_gateway.py:1322\u001b[0m, in \u001b[0;36mJavaMember.__call__\u001b[1;34m(self, *args)\u001b[0m\n\u001b[0;32m   1316\u001b[0m command \u001b[38;5;241m=\u001b[39m proto\u001b[38;5;241m.\u001b[39mCALL_COMMAND_NAME \u001b[38;5;241m+\u001b[39m\\\n\u001b[0;32m   1317\u001b[0m     \u001b[38;5;28mself\u001b[39m\u001b[38;5;241m.\u001b[39mcommand_header \u001b[38;5;241m+\u001b[39m\\\n\u001b[0;32m   1318\u001b[0m     args_command \u001b[38;5;241m+\u001b[39m\\\n\u001b[0;32m   1319\u001b[0m     proto\u001b[38;5;241m.\u001b[39mEND_COMMAND_PART\n\u001b[0;32m   1321\u001b[0m answer \u001b[38;5;241m=\u001b[39m \u001b[38;5;28mself\u001b[39m\u001b[38;5;241m.\u001b[39mgateway_client\u001b[38;5;241m.\u001b[39msend_command(command)\n\u001b[1;32m-> 1322\u001b[0m return_value \u001b[38;5;241m=\u001b[39m \u001b[43mget_return_value\u001b[49m\u001b[43m(\u001b[49m\n\u001b[0;32m   1323\u001b[0m \u001b[43m    \u001b[49m\u001b[43manswer\u001b[49m\u001b[43m,\u001b[49m\u001b[43m \u001b[49m\u001b[38;5;28;43mself\u001b[39;49m\u001b[38;5;241;43m.\u001b[39;49m\u001b[43mgateway_client\u001b[49m\u001b[43m,\u001b[49m\u001b[43m \u001b[49m\u001b[38;5;28;43mself\u001b[39;49m\u001b[38;5;241;43m.\u001b[39;49m\u001b[43mtarget_id\u001b[49m\u001b[43m,\u001b[49m\u001b[43m \u001b[49m\u001b[38;5;28;43mself\u001b[39;49m\u001b[38;5;241;43m.\u001b[39;49m\u001b[43mname\u001b[49m\u001b[43m)\u001b[49m\n\u001b[0;32m   1325\u001b[0m \u001b[38;5;28;01mfor\u001b[39;00m temp_arg \u001b[38;5;129;01min\u001b[39;00m temp_args:\n\u001b[0;32m   1326\u001b[0m     \u001b[38;5;28;01mif\u001b[39;00m \u001b[38;5;28mhasattr\u001b[39m(temp_arg, \u001b[38;5;124m\"\u001b[39m\u001b[38;5;124m_detach\u001b[39m\u001b[38;5;124m\"\u001b[39m):\n",
      "File \u001b[1;32mc:\\Users\\Leo\\.conda\\envs\\geo_soft_conda\\lib\\site-packages\\pyspark\\errors\\exceptions\\captured.py:185\u001b[0m, in \u001b[0;36mcapture_sql_exception.<locals>.deco\u001b[1;34m(*a, **kw)\u001b[0m\n\u001b[0;32m    181\u001b[0m converted \u001b[38;5;241m=\u001b[39m convert_exception(e\u001b[38;5;241m.\u001b[39mjava_exception)\n\u001b[0;32m    182\u001b[0m \u001b[38;5;28;01mif\u001b[39;00m \u001b[38;5;129;01mnot\u001b[39;00m \u001b[38;5;28misinstance\u001b[39m(converted, UnknownException):\n\u001b[0;32m    183\u001b[0m     \u001b[38;5;66;03m# Hide where the exception came from that shows a non-Pythonic\u001b[39;00m\n\u001b[0;32m    184\u001b[0m     \u001b[38;5;66;03m# JVM exception message.\u001b[39;00m\n\u001b[1;32m--> 185\u001b[0m     \u001b[38;5;28;01mraise\u001b[39;00m converted \u001b[38;5;28;01mfrom\u001b[39;00m \u001b[38;5;28;01mNone\u001b[39;00m\n\u001b[0;32m    186\u001b[0m \u001b[38;5;28;01melse\u001b[39;00m:\n\u001b[0;32m    187\u001b[0m     \u001b[38;5;28;01mraise\u001b[39;00m\n",
      "\u001b[1;31mAnalysisException\u001b[0m: [UNRESOLVED_COLUMN.WITH_SUGGESTION] A column or function parameter with name `name` cannot be resolved. Did you mean one of the following? [`id,name,age,salary,department`].;\n'Filter isnull('name)\n+- Relation [id,name,age,salary,department#534] csv\n"
     ]
    }
   ],
   "source": [
    "sample_df.filter(col(\"name\").isNull()).show()"
   ]
  },
  {
   "cell_type": "code",
   "execution_count": 7,
   "metadata": {},
   "outputs": [
    {
     "name": "stdout",
     "output_type": "stream",
     "text": [
      "+--------+-----------+--------------------+--------------------+----+--------------------+--------------------+--------------------+------+--------+----+--------+----+--------------+--------+------------+------------+----+--------------------+------------+-------------+--------------------+\n",
      "|      ID|Case Number|                Date|               Block|IUCR|        Primary Type|         Description|Location Description|Arrest|Domestic|Beat|District|Ward|Community Area|FBI Code|X Coordinate|Y Coordinate|Year|          Updated On|    Latitude|    Longitude|            Location|\n",
      "+--------+-----------+--------------------+--------------------+----+--------------------+--------------------+--------------------+------+--------+----+--------+----+--------------+--------+------------+------------+----+--------------------+------------+-------------+--------------------+\n",
      "|13311263|   JG503434|07/29/2022 03:39:...|     023XX S TROY ST|1582|OFFENSE INVOLVING...|   CHILD PORNOGRAPHY|           RESIDENCE|  true|   false|1033|      10|  25|            30|      17|        NULL|        NULL|2022|04/18/2024 03:40:...|        NULL|         NULL|                NULL|\n",
      "|13053066|   JG103252|01/03/2023 04:44:...|039XX W WASHINGTO...|2017|           NARCOTICS|MANUFACTURE / DEL...|            SIDEWALK|  true|   false|1122|      11|  28|            26|      18|        NULL|        NULL|2023|01/20/2024 03:41:...|        NULL|         NULL|                NULL|\n",
      "|11227634|   JB147599|08/26/2017 10:00:...| 001XX W RANDOLPH ST|0281| CRIM SEXUAL ASSAULT|      NON-AGGRAVATED|         HOTEL/MOTEL| false|   false| 122|       1|  42|            32|      02|        NULL|        NULL|2017|02/11/2018 03:57:...|        NULL|         NULL|                NULL|\n",
      "|13203321|   JG415333|09/06/2023 05:00:...|    002XX N Wells st|1320|     CRIMINAL DAMAGE|          TO VEHICLE|PARKING LOT / GAR...| false|   false| 122|       1|  42|            32|      14|     1174694|     1901831|2023|11/04/2023 03:40:...|41.886018055|-87.633937881|(41.886018055, -8...|\n",
      "|13204489|   JG416325|09/06/2023 11:00:...|      0000X E 8TH ST|0810|               THEFT|           OVER $500|PARKING LOT / GAR...| false|   false| 123|       1|   4|            32|      06|     1176857|     1896680|2023|11/04/2023 03:40:...|41.871834768| -87.62615082|(41.871834768, -8...|\n",
      "|11695116|   JC272771|05/21/2019 08:20:...|018XX S CALIFORNI...|0620|            BURGLARY|      UNLAWFUL ENTRY|           RESIDENCE| false|   false|1023|      10|  25|            29|      05|     1157982|     1890961|2019|01/19/2024 03:40:...|41.856547057|-87.695604526|(41.856547057, -8...|\n",
      "|12419690|   JE295655|07/07/2021 10:30:...|132XX S GREENWOOD...|1544|         SEX OFFENSE|SEXUAL EXPLOITATI...|           RESIDENCE| false|   false| 533|       5|  10|            54|      17|     1186051|     1817781|2021|01/19/2024 03:40:...| 41.65511579|-87.594883198|(41.65511579, -87...|\n",
      "|12729745|   JF279458|06/14/2022 02:47:...| 035XX N CENTRAL AVE|0340|             ROBBERY|ATTEMPT STRONG AR...|                BANK|  true|   false|1633|      16|  30|            15|      03|     1138391|     1923142|2022|01/19/2024 03:40:...|41.945232412|-87.766734668|(41.945232412, -8...|\n",
      "|12835559|   JF406130|09/21/2022 10:00:...|     004XX E 69TH ST|0910| MOTOR VEHICLE THEFT|          AUTOMOBILE|     OTHER (SPECIFY)|  true|   false| 322|       3|   6|            69|      07|     1180204|     1859359|2022|01/19/2024 03:40:...|41.769346711|-87.615008288|(41.769346711, -8...|\n",
      "|13003649|   JG177593|02/22/2023 01:50:...|   070XX S CLYDE AVE|0610|            BURGLARY|      FORCIBLE ENTRY|RESIDENCE - PORCH...|  true|   false| 331|       3|   5|            43|      05|     1191427|     1858753|2023|01/19/2024 03:40:...|41.767419224|-87.573890196|(41.767419224, -8...|\n",
      "|13061203|   JG246126|05/03/2023 08:10:...| 073XX S EMERALD AVE|0486|             BATTERY|DOMESTIC BATTERY ...|              STREET|  true|    true| 732|       7|   6|            68|     08B|     1172570|     1856234|2023|01/19/2024 03:40:...|41.760942883|-87.643082808|(41.760942883, -8...|\n",
      "|13256787|   JG479716|12/25/2022 12:01:...|  055XX S ALBANY AVE|0486|             BATTERY|DOMESTIC BATTERY ...|  RESIDENCE - GARAGE| false|    true| 824|       8|  14|            63|     08B|     1156659|     1867650|2022|01/19/2024 03:40:...|41.792605624| -87.70109031|(41.792605624, -8...|\n",
      "|   27382|   JG184406|03/13/2023 06:40:...|     004XX E 88TH ST|0110|            HOMICIDE| FIRST DEGREE MURDER|               ALLEY|  true|   false| 632|       6|   8|            44|     01A|     1180808|     1846737|2023|01/19/2024 03:40:...|41.734696692|-87.613181581|(41.734696692, -8...|\n",
      "|   27547|   JH119907|06/05/2023 09:15:...| 020XX N KIMBALL AVE|0110|            HOMICIDE| FIRST DEGREE MURDER|           APARTMENT|  true|    true|1413|      14|  26|            22|     01A|     1153376|     1913502|2023|01/19/2024 03:40:...|41.918494462|-87.711911917|(41.918494462, -8...|\n",
      "| 6255892|   HP342049|05/17/2008 06:00:...|101XX S LAFAYETTE...|031A|             ROBBERY|     ARMED - HANDGUN|           RESIDENCE| false|   false| 511|       5|   9|            49|      03|     1177712|     1837726|2008|01/19/2024 03:40:...|41.710039855| -87.62479561|(41.710039855, -8...|\n",
      "| 6272641|   HP358387|05/27/2008 01:00:...|   105XX S PERRY AVE|0320|             ROBBERY|STRONG ARM - NO W...|              STREET| false|    true| 512|       5|   9|            49|      03|     1177463|     1835161|2008|01/19/2024 03:40:...|41.703006756|-87.625784664|(41.703006756, -8...|\n",
      "| 6438609|   HP496499|08/05/2008 10:37:...|   126XX S UNION AVE|031A|             ROBBERY|     ARMED - HANDGUN|SCHOOL - PUBLIC G...| false|   false| 523|       5|   9|            53|      03|     1173953|     1821073|2008|01/19/2024 03:40:...|41.664425476|-87.639053139|(41.664425476, -8...|\n",
      "| 6680276|   HP754070|12/27/2008 08:00:...|  058XX N MANTON AVE|0610|            BURGLARY|      FORCIBLE ENTRY|  RESIDENCE - GARAGE| false|   false|1622|      16|  39|            11|      05|     1137225|     1938474|2008|01/19/2024 03:40:...|  41.9873259|-87.770650405|(41.9873259, -87....|\n",
      "|11662417|   JC232642|04/21/2019 12:30:...|     009XX E 80TH ST|031A|             ROBBERY|     ARMED - HANDGUN|           RESIDENCE| false|   false| 631|       6|   8|            44|      03|     1184044|     1852159|2019|09/14/2023 03:41:...|41.749500329|  -87.6011574|(41.749500329, -8...|\n",
      "|12218064|   JD426642|10/30/2020 04:30:...|     011XX E 82ND ST|0266|CRIMINAL SEXUAL A...|           PREDATORY|           RESIDENCE|  true|    true| 411|       4|   8|            45|      02|     1185144|     1850850|2020|09/14/2023 03:41:...|41.745882542|-87.597167639|(41.745882542, -8...|\n",
      "+--------+-----------+--------------------+--------------------+----+--------------------+--------------------+--------------------+------+--------+----+--------+----+--------------+--------+------------+------------+----+--------------------+------------+-------------+--------------------+\n",
      "only showing top 20 rows\n",
      "\n"
     ]
    }
   ],
   "source": [
    "# CSV file pyto a DataFrame\n",
    "df = spark.read.csv(\"C:/Users/Leo/Downloads/Crimes_-_2001_to_Present_20250409.csv\", header=True, inferSchema=True)\n",
    "\n",
    "# Show the first few rows\n",
    "df.show()"
   ]
  },
  {
   "cell_type": "code",
   "execution_count": 8,
   "metadata": {},
   "outputs": [
    {
     "data": {
      "text/plain": [
       "[Row(ID=13794642, Case Number='JJ204625', Date='03/31/2025 08:00:00 PM', Block='058XX W BERENICE AVE', IUCR='0710', Primary Type='THEFT', Description='THEFT FROM MOTOR VEHICLE', Location Description='STREET', Arrest=False, Domestic=False, Beat=1633, District=16, Ward=38, Community Area=15, FBI Code='06', X Coordinate=1136680, Y Coordinate=1924998, Year=2025, Updated On='04/08/2025 03:41:35 PM', Latitude=41.950356329, Longitude=-87.772979149, Location='(41.950356329, -87.772979149)'),\n",
       " Row(ID=13793100, Case Number='JJ202341', Date='03/31/2025 07:00:00 PM', Block='045XX S CHAMPLAIN AVE', IUCR='1153', Primary Type='DECEPTIVE PRACTICE', Description='FINANCIAL IDENTITY THEFT OVER $ 300', Location Description=None, Arrest=False, Domestic=False, Beat=221, District=2, Ward=4, Community Area=38, FBI Code='11', X Coordinate=1181467, Y Coordinate=1875035, Year=2025, Updated On='04/08/2025 03:41:35 PM', Latitude=41.81233402, Longitude=-87.609895237, Location='(41.81233402, -87.609895237)'),\n",
       " Row(ID=13792351, Case Number='JJ201791', Date='03/31/2025 11:55:00 PM', Block='025XX W 51ST ST', IUCR='051B', Primary Type='ASSAULT', Description='AGGRAVATED - OTHER FIREARM', Location Description='APARTMENT', Arrest=False, Domestic=True, Beat=923, District=9, Ward=15, Community Area=63, FBI Code='04A', X Coordinate=1160405, Y Coordinate=1870774, Year=2025, Updated On='04/08/2025 03:41:35 PM', Latitude=41.80110187, Longitude=-87.687268048, Location='(41.80110187, -87.687268048)'),\n",
       " Row(ID=13792018, Case Number='JJ201605', Date='03/31/2025 11:00:00 AM', Block='080XX S SPAULDING AVE', IUCR='1320', Primary Type='CRIMINAL DAMAGE', Description='TO VEHICLE', Location Description='STREET', Arrest=False, Domestic=False, Beat=834, District=8, Ward=18, Community Area=70, FBI Code='14', X Coordinate=1155778, Y Coordinate=1851140, Year=2025, Updated On='04/08/2025 03:41:35 PM', Latitude=41.747317392, Longitude=-87.704763294, Location='(41.747317392, -87.704763294)'),\n",
       " Row(ID=13791614, Case Number='JJ200751', Date='03/31/2025 05:50:00 AM', Block='003XX N PINE AVE', IUCR='0261', Primary Type='CRIMINAL SEXUAL ASSAULT', Description='AGGRAVATED - HANDGUN', Location Description='ALLEY', Arrest=False, Domestic=True, Beat=1523, District=15, Ward=37, Community Area=25, FBI Code='02', X Coordinate=1139439, Y Coordinate=1901762, Year=2025, Updated On='04/08/2025 03:41:35 PM', Latitude=41.886544212, Longitude=-87.76340479, Location='(41.886544212, -87.76340479)')]"
      ]
     },
     "execution_count": 8,
     "metadata": {},
     "output_type": "execute_result"
    }
   ],
   "source": [
    "df.tail(5)"
   ]
  },
  {
   "cell_type": "code",
   "execution_count": 10,
   "metadata": {},
   "outputs": [
    {
     "name": "stdout",
     "output_type": "stream",
     "text": [
      "root\n",
      " |-- ID: integer (nullable = true)\n",
      " |-- Case Number: string (nullable = true)\n",
      " |-- Date: string (nullable = true)\n",
      " |-- Block: string (nullable = true)\n",
      " |-- IUCR: string (nullable = true)\n",
      " |-- Primary Type: string (nullable = true)\n",
      " |-- Description: string (nullable = true)\n",
      " |-- Location Description: string (nullable = true)\n",
      " |-- Arrest: boolean (nullable = true)\n",
      " |-- Domestic: boolean (nullable = true)\n",
      " |-- Beat: integer (nullable = true)\n",
      " |-- District: integer (nullable = true)\n",
      " |-- Ward: integer (nullable = true)\n",
      " |-- Community Area: integer (nullable = true)\n",
      " |-- FBI Code: string (nullable = true)\n",
      " |-- X Coordinate: integer (nullable = true)\n",
      " |-- Y Coordinate: integer (nullable = true)\n",
      " |-- Year: integer (nullable = true)\n",
      " |-- Updated On: string (nullable = true)\n",
      " |-- Latitude: double (nullable = true)\n",
      " |-- Longitude: double (nullable = true)\n",
      " |-- Location: string (nullable = true)\n",
      "\n"
     ]
    }
   ],
   "source": [
    "df.printSchema()"
   ]
  },
  {
   "cell_type": "code",
   "execution_count": null,
   "metadata": {},
   "outputs": [],
   "source": []
  }
 ],
 "metadata": {
  "kernelspec": {
   "display_name": "geo_soft_conda",
   "language": "python",
   "name": "python3"
  },
  "language_info": {
   "codemirror_mode": {
    "name": "ipython",
    "version": 3
   },
   "file_extension": ".py",
   "mimetype": "text/x-python",
   "name": "python",
   "nbconvert_exporter": "python",
   "pygments_lexer": "ipython3",
   "version": "3.10.10"
  }
 },
 "nbformat": 4,
 "nbformat_minor": 2
}
