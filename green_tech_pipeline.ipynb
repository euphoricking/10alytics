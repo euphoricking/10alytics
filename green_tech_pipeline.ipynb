{
 "cells": [
  {
   "cell_type": "code",
   "execution_count": 1,
   "id": "213e6b99",
   "metadata": {},
   "outputs": [],
   "source": [
    "import pandas as pd\n",
    "import numpy as np\n",
    "import os"
   ]
  },
  {
   "cell_type": "code",
   "execution_count": 2,
   "id": "2944c534",
   "metadata": {},
   "outputs": [],
   "source": [
    "# Extract the data\n",
    "# This script extracts data from CSV files and handles errors during the process.\n",
    "# It uses pandas for data manipulation and numpy for numerical operations.\n",
    "\n",
    "data_path = \"data\"\n",
    "\n",
    "def extract_data(file_name):\n",
    "    try:\n",
    "        file_path = os.path.join(data_path, file_name)\n",
    "        df = pd.read_csv(file_path)\n",
    "        return df\n",
    "    except Exception as e:\n",
    "        print(f\"Error during extraction {file_name}: {str(e)}\")\n",
    "        return None"
   ]
  },
  {
   "cell_type": "code",
   "execution_count": 3,
   "id": "b323b39f",
   "metadata": {},
   "outputs": [],
   "source": [
    "customer_data = extract_data(\"customer_usage.csv\")\n",
    "\n",
    "prod_data = extract_data(\"energy_production.csv\")\n",
    "\n",
    "maintenace_data = extract_data(\"maintenance_reports.csv\")\n",
    "\n",
    "solar_data = extract_data(\"solar_installations.csv\")"
   ]
  },
  {
   "cell_type": "code",
   "execution_count": 4,
   "id": "2adf5643",
   "metadata": {},
   "outputs": [
    {
     "data": {
      "application/vnd.microsoft.datawrangler.viewer.v0+json": {
       "columns": [
        {
         "name": "index",
         "rawType": "int64",
         "type": "integer"
        },
        {
         "name": "usage_id",
         "rawType": "object",
         "type": "string"
        },
        {
         "name": "customer_id",
         "rawType": "object",
         "type": "string"
        },
        {
         "name": "date",
         "rawType": "object",
         "type": "string"
        },
        {
         "name": "peak_hours_kwh",
         "rawType": "int64",
         "type": "integer"
        },
        {
         "name": "off_peak_kwh",
         "rawType": "int64",
         "type": "integer"
        },
        {
         "name": "total_consumption",
         "rawType": "int64",
         "type": "integer"
        },
        {
         "name": "monthly_bill",
         "rawType": "float64",
         "type": "float"
        }
       ],
       "conversionMethod": "pd.DataFrame",
       "ref": "3766f6dc-ba51-4f9d-b44b-7b39ac6c0a31",
       "rows": [
        [
         "0",
         "USE-4001",
         "CUST-501",
         "2023-03-01",
         "117",
         "200",
         "317",
         "103.44"
        ],
        [
         "1",
         "USE-4002",
         "CUST-502",
         "2023-03-02",
         "85",
         "120",
         "205",
         "72.55"
        ],
        [
         "2",
         "USE-4003",
         "CUST-503",
         "2023-03-03",
         "142",
         "149",
         "291",
         "94.85"
        ],
        [
         "3",
         "USE-4004",
         "CUST-504",
         "2023-03-04",
         "134",
         "129",
         "263",
         "89.47"
        ],
        [
         "4",
         "USE-4005",
         "CUST-505",
         "2023-03-05",
         "123",
         "210",
         "333",
         "108.71"
        ]
       ],
       "shape": {
        "columns": 7,
        "rows": 5
       }
      },
      "text/html": [
       "<div>\n",
       "<style scoped>\n",
       "    .dataframe tbody tr th:only-of-type {\n",
       "        vertical-align: middle;\n",
       "    }\n",
       "\n",
       "    .dataframe tbody tr th {\n",
       "        vertical-align: top;\n",
       "    }\n",
       "\n",
       "    .dataframe thead th {\n",
       "        text-align: right;\n",
       "    }\n",
       "</style>\n",
       "<table border=\"1\" class=\"dataframe\">\n",
       "  <thead>\n",
       "    <tr style=\"text-align: right;\">\n",
       "      <th></th>\n",
       "      <th>usage_id</th>\n",
       "      <th>customer_id</th>\n",
       "      <th>date</th>\n",
       "      <th>peak_hours_kwh</th>\n",
       "      <th>off_peak_kwh</th>\n",
       "      <th>total_consumption</th>\n",
       "      <th>monthly_bill</th>\n",
       "    </tr>\n",
       "  </thead>\n",
       "  <tbody>\n",
       "    <tr>\n",
       "      <th>0</th>\n",
       "      <td>USE-4001</td>\n",
       "      <td>CUST-501</td>\n",
       "      <td>2023-03-01</td>\n",
       "      <td>117</td>\n",
       "      <td>200</td>\n",
       "      <td>317</td>\n",
       "      <td>103.44</td>\n",
       "    </tr>\n",
       "    <tr>\n",
       "      <th>1</th>\n",
       "      <td>USE-4002</td>\n",
       "      <td>CUST-502</td>\n",
       "      <td>2023-03-02</td>\n",
       "      <td>85</td>\n",
       "      <td>120</td>\n",
       "      <td>205</td>\n",
       "      <td>72.55</td>\n",
       "    </tr>\n",
       "    <tr>\n",
       "      <th>2</th>\n",
       "      <td>USE-4003</td>\n",
       "      <td>CUST-503</td>\n",
       "      <td>2023-03-03</td>\n",
       "      <td>142</td>\n",
       "      <td>149</td>\n",
       "      <td>291</td>\n",
       "      <td>94.85</td>\n",
       "    </tr>\n",
       "    <tr>\n",
       "      <th>3</th>\n",
       "      <td>USE-4004</td>\n",
       "      <td>CUST-504</td>\n",
       "      <td>2023-03-04</td>\n",
       "      <td>134</td>\n",
       "      <td>129</td>\n",
       "      <td>263</td>\n",
       "      <td>89.47</td>\n",
       "    </tr>\n",
       "    <tr>\n",
       "      <th>4</th>\n",
       "      <td>USE-4005</td>\n",
       "      <td>CUST-505</td>\n",
       "      <td>2023-03-05</td>\n",
       "      <td>123</td>\n",
       "      <td>210</td>\n",
       "      <td>333</td>\n",
       "      <td>108.71</td>\n",
       "    </tr>\n",
       "  </tbody>\n",
       "</table>\n",
       "</div>"
      ],
      "text/plain": [
       "   usage_id customer_id        date  peak_hours_kwh  off_peak_kwh   \n",
       "0  USE-4001    CUST-501  2023-03-01             117           200  \\\n",
       "1  USE-4002    CUST-502  2023-03-02              85           120   \n",
       "2  USE-4003    CUST-503  2023-03-03             142           149   \n",
       "3  USE-4004    CUST-504  2023-03-04             134           129   \n",
       "4  USE-4005    CUST-505  2023-03-05             123           210   \n",
       "\n",
       "   total_consumption  monthly_bill  \n",
       "0                317        103.44  \n",
       "1                205         72.55  \n",
       "2                291         94.85  \n",
       "3                263         89.47  \n",
       "4                333        108.71  "
      ]
     },
     "execution_count": 4,
     "metadata": {},
     "output_type": "execute_result"
    }
   ],
   "source": [
    "customer_data.head()"
   ]
  },
  {
   "cell_type": "code",
   "execution_count": 5,
   "id": "48863410",
   "metadata": {},
   "outputs": [
    {
     "name": "stdout",
     "output_type": "stream",
     "text": [
      "<class 'pandas.core.frame.DataFrame'>\n",
      "RangeIndex: 100 entries, 0 to 99\n",
      "Data columns (total 7 columns):\n",
      " #   Column             Non-Null Count  Dtype  \n",
      "---  ------             --------------  -----  \n",
      " 0   usage_id           100 non-null    object \n",
      " 1   customer_id        100 non-null    object \n",
      " 2   date               100 non-null    object \n",
      " 3   peak_hours_kwh     100 non-null    int64  \n",
      " 4   off_peak_kwh       100 non-null    int64  \n",
      " 5   total_consumption  100 non-null    int64  \n",
      " 6   monthly_bill       100 non-null    float64\n",
      "dtypes: float64(1), int64(3), object(3)\n",
      "memory usage: 5.6+ KB\n"
     ]
    }
   ],
   "source": [
    "customer_data.info()"
   ]
  },
  {
   "cell_type": "code",
   "execution_count": 6,
   "id": "020cb150",
   "metadata": {},
   "outputs": [],
   "source": [
    "def transform_customer_usage(df):\n",
    "    try:\n",
    "        df['billing_date'] = pd.to_datetime(df['date'])\n",
    "        df.drop('date', axis=1, inplace=True)\n",
    "        return df\n",
    "    except Exception as e:\n",
    "        print(f\"Error during customer usage transformation: {str(e)}\")\n",
    "        return None"
   ]
  },
  {
   "cell_type": "code",
   "execution_count": 7,
   "id": "eadc669d",
   "metadata": {},
   "outputs": [
    {
     "data": {
      "application/vnd.microsoft.datawrangler.viewer.v0+json": {
       "columns": [
        {
         "name": "index",
         "rawType": "int64",
         "type": "integer"
        },
        {
         "name": "usage_id",
         "rawType": "object",
         "type": "string"
        },
        {
         "name": "customer_id",
         "rawType": "object",
         "type": "string"
        },
        {
         "name": "peak_hours_kwh",
         "rawType": "int64",
         "type": "integer"
        },
        {
         "name": "off_peak_kwh",
         "rawType": "int64",
         "type": "integer"
        },
        {
         "name": "total_consumption",
         "rawType": "int64",
         "type": "integer"
        },
        {
         "name": "monthly_bill",
         "rawType": "float64",
         "type": "float"
        },
        {
         "name": "billing_date",
         "rawType": "datetime64[ns]",
         "type": "datetime"
        }
       ],
       "conversionMethod": "pd.DataFrame",
       "ref": "a771e450-f1ae-454d-ae77-032c33c53e04",
       "rows": [
        [
         "0",
         "USE-4001",
         "CUST-501",
         "117",
         "200",
         "317",
         "103.44",
         "2023-03-01 00:00:00"
        ],
        [
         "1",
         "USE-4002",
         "CUST-502",
         "85",
         "120",
         "205",
         "72.55",
         "2023-03-02 00:00:00"
        ],
        [
         "2",
         "USE-4003",
         "CUST-503",
         "142",
         "149",
         "291",
         "94.85",
         "2023-03-03 00:00:00"
        ],
        [
         "3",
         "USE-4004",
         "CUST-504",
         "134",
         "129",
         "263",
         "89.47",
         "2023-03-04 00:00:00"
        ],
        [
         "4",
         "USE-4005",
         "CUST-505",
         "123",
         "210",
         "333",
         "108.71",
         "2023-03-05 00:00:00"
        ]
       ],
       "shape": {
        "columns": 7,
        "rows": 5
       }
      },
      "text/html": [
       "<div>\n",
       "<style scoped>\n",
       "    .dataframe tbody tr th:only-of-type {\n",
       "        vertical-align: middle;\n",
       "    }\n",
       "\n",
       "    .dataframe tbody tr th {\n",
       "        vertical-align: top;\n",
       "    }\n",
       "\n",
       "    .dataframe thead th {\n",
       "        text-align: right;\n",
       "    }\n",
       "</style>\n",
       "<table border=\"1\" class=\"dataframe\">\n",
       "  <thead>\n",
       "    <tr style=\"text-align: right;\">\n",
       "      <th></th>\n",
       "      <th>usage_id</th>\n",
       "      <th>customer_id</th>\n",
       "      <th>peak_hours_kwh</th>\n",
       "      <th>off_peak_kwh</th>\n",
       "      <th>total_consumption</th>\n",
       "      <th>monthly_bill</th>\n",
       "      <th>billing_date</th>\n",
       "    </tr>\n",
       "  </thead>\n",
       "  <tbody>\n",
       "    <tr>\n",
       "      <th>0</th>\n",
       "      <td>USE-4001</td>\n",
       "      <td>CUST-501</td>\n",
       "      <td>117</td>\n",
       "      <td>200</td>\n",
       "      <td>317</td>\n",
       "      <td>103.44</td>\n",
       "      <td>2023-03-01</td>\n",
       "    </tr>\n",
       "    <tr>\n",
       "      <th>1</th>\n",
       "      <td>USE-4002</td>\n",
       "      <td>CUST-502</td>\n",
       "      <td>85</td>\n",
       "      <td>120</td>\n",
       "      <td>205</td>\n",
       "      <td>72.55</td>\n",
       "      <td>2023-03-02</td>\n",
       "    </tr>\n",
       "    <tr>\n",
       "      <th>2</th>\n",
       "      <td>USE-4003</td>\n",
       "      <td>CUST-503</td>\n",
       "      <td>142</td>\n",
       "      <td>149</td>\n",
       "      <td>291</td>\n",
       "      <td>94.85</td>\n",
       "      <td>2023-03-03</td>\n",
       "    </tr>\n",
       "    <tr>\n",
       "      <th>3</th>\n",
       "      <td>USE-4004</td>\n",
       "      <td>CUST-504</td>\n",
       "      <td>134</td>\n",
       "      <td>129</td>\n",
       "      <td>263</td>\n",
       "      <td>89.47</td>\n",
       "      <td>2023-03-04</td>\n",
       "    </tr>\n",
       "    <tr>\n",
       "      <th>4</th>\n",
       "      <td>USE-4005</td>\n",
       "      <td>CUST-505</td>\n",
       "      <td>123</td>\n",
       "      <td>210</td>\n",
       "      <td>333</td>\n",
       "      <td>108.71</td>\n",
       "      <td>2023-03-05</td>\n",
       "    </tr>\n",
       "  </tbody>\n",
       "</table>\n",
       "</div>"
      ],
      "text/plain": [
       "   usage_id customer_id  peak_hours_kwh  off_peak_kwh  total_consumption   \n",
       "0  USE-4001    CUST-501             117           200                317  \\\n",
       "1  USE-4002    CUST-502              85           120                205   \n",
       "2  USE-4003    CUST-503             142           149                291   \n",
       "3  USE-4004    CUST-504             134           129                263   \n",
       "4  USE-4005    CUST-505             123           210                333   \n",
       "\n",
       "   monthly_bill billing_date  \n",
       "0        103.44   2023-03-01  \n",
       "1         72.55   2023-03-02  \n",
       "2         94.85   2023-03-03  \n",
       "3         89.47   2023-03-04  \n",
       "4        108.71   2023-03-05  "
      ]
     },
     "execution_count": 7,
     "metadata": {},
     "output_type": "execute_result"
    }
   ],
   "source": [
    "t_customer = transform_customer_usage(customer_data)\n",
    "t_customer.head()"
   ]
  },
  {
   "cell_type": "code",
   "execution_count": 8,
   "id": "823e626d",
   "metadata": {},
   "outputs": [
    {
     "name": "stdout",
     "output_type": "stream",
     "text": [
      "<class 'pandas.core.frame.DataFrame'>\n",
      "RangeIndex: 100 entries, 0 to 99\n",
      "Data columns (total 7 columns):\n",
      " #   Column             Non-Null Count  Dtype         \n",
      "---  ------             --------------  -----         \n",
      " 0   usage_id           100 non-null    object        \n",
      " 1   customer_id        100 non-null    object        \n",
      " 2   peak_hours_kwh     100 non-null    int64         \n",
      " 3   off_peak_kwh       100 non-null    int64         \n",
      " 4   total_consumption  100 non-null    int64         \n",
      " 5   monthly_bill       100 non-null    float64       \n",
      " 6   billing_date       100 non-null    datetime64[ns]\n",
      "dtypes: datetime64[ns](1), float64(1), int64(3), object(2)\n",
      "memory usage: 5.6+ KB\n"
     ]
    }
   ],
   "source": [
    "t_customer.info()"
   ]
  },
  {
   "cell_type": "code",
   "execution_count": 9,
   "id": "9f4d48d4",
   "metadata": {},
   "outputs": [],
   "source": [
    "def transform_energy_production(df):\n",
    "    try:\n",
    "        df['production_date'] = pd.to_datetime(df['date'])\n",
    "        df.drop('date', axis=1, inplace=True)\n",
    "        df.drop('time', axis=1, inplace=True)\n",
    "        return df\n",
    "    except Exception as e:\n",
    "        print(f\"Error during customer usage transformation: {str(e)}\")\n",
    "        return None"
   ]
  },
  {
   "cell_type": "code",
   "execution_count": 10,
   "id": "25e79005",
   "metadata": {},
   "outputs": [],
   "source": [
    "t_production = transform_energy_production(prod_data)"
   ]
  },
  {
   "cell_type": "code",
   "execution_count": 11,
   "id": "5aeab329",
   "metadata": {},
   "outputs": [
    {
     "data": {
      "application/vnd.microsoft.datawrangler.viewer.v0+json": {
       "columns": [
        {
         "name": "index",
         "rawType": "int64",
         "type": "integer"
        },
        {
         "name": "production_id",
         "rawType": "object",
         "type": "string"
        },
        {
         "name": "installation_id",
         "rawType": "object",
         "type": "string"
        },
        {
         "name": "kwh_produced",
         "rawType": "float64",
         "type": "float"
        },
        {
         "name": "temperature",
         "rawType": "int64",
         "type": "integer"
        },
        {
         "name": "weather_condition",
         "rawType": "object",
         "type": "string"
        },
        {
         "name": "production_date",
         "rawType": "datetime64[ns]",
         "type": "datetime"
        }
       ],
       "conversionMethod": "pd.DataFrame",
       "ref": "89e016b1-45e3-4827-a785-9aa9643ca38d",
       "rows": [
        [
         "0",
         "PROD-2001",
         "INST-1001",
         "2.23",
         "75",
         "Sunny",
         "2023-03-01 00:00:00"
        ],
        [
         "1",
         "PROD-2002",
         "INST-1004",
         "1.98",
         "75",
         "Cloudy",
         "2023-03-01 01:00:00"
        ],
        [
         "2",
         "PROD-2003",
         "INST-1001",
         "2.11",
         "76",
         "Cloudy",
         "2023-03-01 02:00:00"
        ],
        [
         "3",
         "PROD-2004",
         "INST-1001",
         "1.79",
         "75",
         "Cloudy",
         "2023-03-01 03:00:00"
        ],
        [
         "4",
         "PROD-2005",
         "INST-1001",
         "1.47",
         "72",
         "Partly Cloudy",
         "2023-03-01 04:00:00"
        ]
       ],
       "shape": {
        "columns": 6,
        "rows": 5
       }
      },
      "text/html": [
       "<div>\n",
       "<style scoped>\n",
       "    .dataframe tbody tr th:only-of-type {\n",
       "        vertical-align: middle;\n",
       "    }\n",
       "\n",
       "    .dataframe tbody tr th {\n",
       "        vertical-align: top;\n",
       "    }\n",
       "\n",
       "    .dataframe thead th {\n",
       "        text-align: right;\n",
       "    }\n",
       "</style>\n",
       "<table border=\"1\" class=\"dataframe\">\n",
       "  <thead>\n",
       "    <tr style=\"text-align: right;\">\n",
       "      <th></th>\n",
       "      <th>production_id</th>\n",
       "      <th>installation_id</th>\n",
       "      <th>kwh_produced</th>\n",
       "      <th>temperature</th>\n",
       "      <th>weather_condition</th>\n",
       "      <th>production_date</th>\n",
       "    </tr>\n",
       "  </thead>\n",
       "  <tbody>\n",
       "    <tr>\n",
       "      <th>0</th>\n",
       "      <td>PROD-2001</td>\n",
       "      <td>INST-1001</td>\n",
       "      <td>2.23</td>\n",
       "      <td>75</td>\n",
       "      <td>Sunny</td>\n",
       "      <td>2023-03-01 00:00:00</td>\n",
       "    </tr>\n",
       "    <tr>\n",
       "      <th>1</th>\n",
       "      <td>PROD-2002</td>\n",
       "      <td>INST-1004</td>\n",
       "      <td>1.98</td>\n",
       "      <td>75</td>\n",
       "      <td>Cloudy</td>\n",
       "      <td>2023-03-01 01:00:00</td>\n",
       "    </tr>\n",
       "    <tr>\n",
       "      <th>2</th>\n",
       "      <td>PROD-2003</td>\n",
       "      <td>INST-1001</td>\n",
       "      <td>2.11</td>\n",
       "      <td>76</td>\n",
       "      <td>Cloudy</td>\n",
       "      <td>2023-03-01 02:00:00</td>\n",
       "    </tr>\n",
       "    <tr>\n",
       "      <th>3</th>\n",
       "      <td>PROD-2004</td>\n",
       "      <td>INST-1001</td>\n",
       "      <td>1.79</td>\n",
       "      <td>75</td>\n",
       "      <td>Cloudy</td>\n",
       "      <td>2023-03-01 03:00:00</td>\n",
       "    </tr>\n",
       "    <tr>\n",
       "      <th>4</th>\n",
       "      <td>PROD-2005</td>\n",
       "      <td>INST-1001</td>\n",
       "      <td>1.47</td>\n",
       "      <td>72</td>\n",
       "      <td>Partly Cloudy</td>\n",
       "      <td>2023-03-01 04:00:00</td>\n",
       "    </tr>\n",
       "  </tbody>\n",
       "</table>\n",
       "</div>"
      ],
      "text/plain": [
       "  production_id installation_id  kwh_produced  temperature weather_condition   \n",
       "0     PROD-2001       INST-1001          2.23           75             Sunny  \\\n",
       "1     PROD-2002       INST-1004          1.98           75            Cloudy   \n",
       "2     PROD-2003       INST-1001          2.11           76            Cloudy   \n",
       "3     PROD-2004       INST-1001          1.79           75            Cloudy   \n",
       "4     PROD-2005       INST-1001          1.47           72     Partly Cloudy   \n",
       "\n",
       "      production_date  \n",
       "0 2023-03-01 00:00:00  \n",
       "1 2023-03-01 01:00:00  \n",
       "2 2023-03-01 02:00:00  \n",
       "3 2023-03-01 03:00:00  \n",
       "4 2023-03-01 04:00:00  "
      ]
     },
     "execution_count": 11,
     "metadata": {},
     "output_type": "execute_result"
    }
   ],
   "source": [
    "t_production.head()"
   ]
  },
  {
   "cell_type": "code",
   "execution_count": 12,
   "id": "a22b0577",
   "metadata": {},
   "outputs": [
    {
     "name": "stdout",
     "output_type": "stream",
     "text": [
      "<class 'pandas.core.frame.DataFrame'>\n",
      "RangeIndex: 100 entries, 0 to 99\n",
      "Data columns (total 6 columns):\n",
      " #   Column             Non-Null Count  Dtype         \n",
      "---  ------             --------------  -----         \n",
      " 0   production_id      100 non-null    object        \n",
      " 1   installation_id    100 non-null    object        \n",
      " 2   kwh_produced       100 non-null    float64       \n",
      " 3   temperature        100 non-null    int64         \n",
      " 4   weather_condition  100 non-null    object        \n",
      " 5   production_date    100 non-null    datetime64[ns]\n",
      "dtypes: datetime64[ns](1), float64(1), int64(1), object(3)\n",
      "memory usage: 4.8+ KB\n"
     ]
    }
   ],
   "source": [
    "t_production.info()"
   ]
  },
  {
   "cell_type": "code",
   "execution_count": 13,
   "id": "d12c5ec2",
   "metadata": {},
   "outputs": [],
   "source": [
    "def transform_maintenance_reports(df):\n",
    "    try:\n",
    "        df['production_date'] = pd.to_datetime(df['date'])\n",
    "        df.drop('date', axis=1, inplace=True)\n",
    "        conditions = [df['issue_type'].str.contains('Cleaning', case=False), \n",
    "                    df['issue_type'].str.contains('Replacement', case=False)]\n",
    "        choices = ['Routine', 'Corrective Maintenance']\n",
    "        df['maintenace_type'] = np.select(conditions, choices, default='Preventive Maintenance')\n",
    "        df.drop('issue_type', axis=1, inplace=True)\n",
    "        df['maintenace_type'] \n",
    "        return df\n",
    "    except Exception as e:\n",
    "        print(f\"Error during customer usage transformation: {str(e)}\")\n",
    "        return None"
   ]
  },
  {
   "cell_type": "code",
   "execution_count": 14,
   "id": "b46f5807",
   "metadata": {},
   "outputs": [
    {
     "data": {
      "application/vnd.microsoft.datawrangler.viewer.v0+json": {
       "columns": [
        {
         "name": "index",
         "rawType": "int64",
         "type": "integer"
        },
        {
         "name": "report_id",
         "rawType": "object",
         "type": "string"
        },
        {
         "name": "installation_id",
         "rawType": "object",
         "type": "string"
        },
        {
         "name": "technician",
         "rawType": "object",
         "type": "string"
        },
        {
         "name": "resolution_time_min",
         "rawType": "int64",
         "type": "integer"
        },
        {
         "name": "parts_replaced",
         "rawType": "object",
         "type": "string"
        },
        {
         "name": "cost",
         "rawType": "float64",
         "type": "float"
        },
        {
         "name": "production_date",
         "rawType": "datetime64[ns]",
         "type": "datetime"
        },
        {
         "name": "maintenace_type",
         "rawType": "object",
         "type": "string"
        }
       ],
       "conversionMethod": "pd.DataFrame",
       "ref": "3d9f3778-f8f9-452a-9488-450462da868d",
       "rows": [
        [
         "0",
         "MNT-3001",
         "INST-1003",
         "Tom Wilson",
         "157",
         "Connector C-200",
         "324.37",
         "2023-01-01 00:00:00",
         "Routine"
        ],
        [
         "1",
         "MNT-3002",
         "INST-1001",
         "Emily Davis",
         "137",
         "Panel B-50",
         "257.64",
         "2023-01-02 00:00:00",
         "Corrective Maintenance"
        ],
        [
         "2",
         "MNT-3003",
         "INST-1001",
         "John Smith",
         "159",
         "Panel B-50",
         "401.13",
         "2023-01-03 00:00:00",
         "Routine"
        ],
        [
         "3",
         "MNT-3004",
         "INST-1002",
         "Sarah Lee",
         "123",
         "Inverter A-100",
         "95.95",
         "2023-01-04 00:00:00",
         "Preventive Maintenance"
        ],
        [
         "4",
         "MNT-3005",
         "INST-1004",
         "John Smith",
         "98",
         "Connector C-200",
         "381.58",
         "2023-01-05 00:00:00",
         "Corrective Maintenance"
        ]
       ],
       "shape": {
        "columns": 8,
        "rows": 5
       }
      },
      "text/html": [
       "<div>\n",
       "<style scoped>\n",
       "    .dataframe tbody tr th:only-of-type {\n",
       "        vertical-align: middle;\n",
       "    }\n",
       "\n",
       "    .dataframe tbody tr th {\n",
       "        vertical-align: top;\n",
       "    }\n",
       "\n",
       "    .dataframe thead th {\n",
       "        text-align: right;\n",
       "    }\n",
       "</style>\n",
       "<table border=\"1\" class=\"dataframe\">\n",
       "  <thead>\n",
       "    <tr style=\"text-align: right;\">\n",
       "      <th></th>\n",
       "      <th>report_id</th>\n",
       "      <th>installation_id</th>\n",
       "      <th>technician</th>\n",
       "      <th>resolution_time_min</th>\n",
       "      <th>parts_replaced</th>\n",
       "      <th>cost</th>\n",
       "      <th>production_date</th>\n",
       "      <th>maintenace_type</th>\n",
       "    </tr>\n",
       "  </thead>\n",
       "  <tbody>\n",
       "    <tr>\n",
       "      <th>0</th>\n",
       "      <td>MNT-3001</td>\n",
       "      <td>INST-1003</td>\n",
       "      <td>Tom Wilson</td>\n",
       "      <td>157</td>\n",
       "      <td>Connector C-200</td>\n",
       "      <td>324.37</td>\n",
       "      <td>2023-01-01</td>\n",
       "      <td>Routine</td>\n",
       "    </tr>\n",
       "    <tr>\n",
       "      <th>1</th>\n",
       "      <td>MNT-3002</td>\n",
       "      <td>INST-1001</td>\n",
       "      <td>Emily Davis</td>\n",
       "      <td>137</td>\n",
       "      <td>Panel B-50</td>\n",
       "      <td>257.64</td>\n",
       "      <td>2023-01-02</td>\n",
       "      <td>Corrective Maintenance</td>\n",
       "    </tr>\n",
       "    <tr>\n",
       "      <th>2</th>\n",
       "      <td>MNT-3003</td>\n",
       "      <td>INST-1001</td>\n",
       "      <td>John Smith</td>\n",
       "      <td>159</td>\n",
       "      <td>Panel B-50</td>\n",
       "      <td>401.13</td>\n",
       "      <td>2023-01-03</td>\n",
       "      <td>Routine</td>\n",
       "    </tr>\n",
       "    <tr>\n",
       "      <th>3</th>\n",
       "      <td>MNT-3004</td>\n",
       "      <td>INST-1002</td>\n",
       "      <td>Sarah Lee</td>\n",
       "      <td>123</td>\n",
       "      <td>Inverter A-100</td>\n",
       "      <td>95.95</td>\n",
       "      <td>2023-01-04</td>\n",
       "      <td>Preventive Maintenance</td>\n",
       "    </tr>\n",
       "    <tr>\n",
       "      <th>4</th>\n",
       "      <td>MNT-3005</td>\n",
       "      <td>INST-1004</td>\n",
       "      <td>John Smith</td>\n",
       "      <td>98</td>\n",
       "      <td>Connector C-200</td>\n",
       "      <td>381.58</td>\n",
       "      <td>2023-01-05</td>\n",
       "      <td>Corrective Maintenance</td>\n",
       "    </tr>\n",
       "  </tbody>\n",
       "</table>\n",
       "</div>"
      ],
      "text/plain": [
       "  report_id installation_id   technician  resolution_time_min   \n",
       "0  MNT-3001       INST-1003   Tom Wilson                  157  \\\n",
       "1  MNT-3002       INST-1001  Emily Davis                  137   \n",
       "2  MNT-3003       INST-1001   John Smith                  159   \n",
       "3  MNT-3004       INST-1002    Sarah Lee                  123   \n",
       "4  MNT-3005       INST-1004   John Smith                   98   \n",
       "\n",
       "    parts_replaced    cost production_date         maintenace_type  \n",
       "0  Connector C-200  324.37      2023-01-01                 Routine  \n",
       "1       Panel B-50  257.64      2023-01-02  Corrective Maintenance  \n",
       "2       Panel B-50  401.13      2023-01-03                 Routine  \n",
       "3   Inverter A-100   95.95      2023-01-04  Preventive Maintenance  \n",
       "4  Connector C-200  381.58      2023-01-05  Corrective Maintenance  "
      ]
     },
     "execution_count": 14,
     "metadata": {},
     "output_type": "execute_result"
    }
   ],
   "source": [
    "t_maintenance = transform_maintenance_reports(maintenace_data)\n",
    "t_maintenance.head()"
   ]
  },
  {
   "cell_type": "code",
   "execution_count": 15,
   "id": "742b407b",
   "metadata": {},
   "outputs": [
    {
     "name": "stdout",
     "output_type": "stream",
     "text": [
      "<class 'pandas.core.frame.DataFrame'>\n",
      "RangeIndex: 100 entries, 0 to 99\n",
      "Data columns (total 8 columns):\n",
      " #   Column               Non-Null Count  Dtype         \n",
      "---  ------               --------------  -----         \n",
      " 0   report_id            100 non-null    object        \n",
      " 1   installation_id      100 non-null    object        \n",
      " 2   technician           100 non-null    object        \n",
      " 3   resolution_time_min  100 non-null    int64         \n",
      " 4   parts_replaced       79 non-null     object        \n",
      " 5   cost                 100 non-null    float64       \n",
      " 6   production_date      100 non-null    datetime64[ns]\n",
      " 7   maintenace_type      100 non-null    object        \n",
      "dtypes: datetime64[ns](1), float64(1), int64(1), object(5)\n",
      "memory usage: 6.4+ KB\n"
     ]
    }
   ],
   "source": [
    "t_maintenance.info()"
   ]
  },
  {
   "cell_type": "code",
   "execution_count": 16,
   "id": "bb680304",
   "metadata": {},
   "outputs": [],
   "source": [
    "def transform_solar_installations(df):\n",
    "    try:\n",
    "        df['installation_date'] = pd.to_datetime(df['date'])\n",
    "        df.drop('date', axis=1, inplace=True)\n",
    "\n",
    "        df['street'] = df['location'].str.split(',').str[0]\n",
    "        df['city'] = df['location'].str.split(',').str[1]\n",
    "        df['state'] = df['location'].str.split(',').str[2]\n",
    "\n",
    "        df.drop('location', axis=1, inplace=True)\n",
    "\n",
    "        return df\n",
    "    except Exception as e:\n",
    "        print(f\"Error during customer usage transformation: {str(e)}\")\n",
    "        return None"
   ]
  },
  {
   "cell_type": "code",
   "execution_count": 17,
   "id": "879479ec",
   "metadata": {},
   "outputs": [
    {
     "data": {
      "application/vnd.microsoft.datawrangler.viewer.v0+json": {
       "columns": [
        {
         "name": "index",
         "rawType": "int64",
         "type": "integer"
        },
        {
         "name": "installation_id",
         "rawType": "object",
         "type": "string"
        },
        {
         "name": "customer_id",
         "rawType": "object",
         "type": "string"
        },
        {
         "name": "panel_type",
         "rawType": "object",
         "type": "string"
        },
        {
         "name": "capacity_kw",
         "rawType": "float64",
         "type": "float"
        },
        {
         "name": "installer_name",
         "rawType": "object",
         "type": "string"
        },
        {
         "name": "orientation",
         "rawType": "object",
         "type": "string"
        },
        {
         "name": "tilt_angle",
         "rawType": "int64",
         "type": "integer"
        },
        {
         "name": "installation_date",
         "rawType": "datetime64[ns]",
         "type": "datetime"
        },
        {
         "name": "street",
         "rawType": "object",
         "type": "string"
        },
        {
         "name": "city",
         "rawType": "object",
         "type": "string"
        },
        {
         "name": "state",
         "rawType": "object",
         "type": "string"
        }
       ],
       "conversionMethod": "pd.DataFrame",
       "ref": "68fb53fa-31f4-45d7-9715-a47b94a5711d",
       "rows": [
        [
         "0",
         "INST-1001",
         "CUST-502",
         "Polycrystalline",
         "3.84",
         "EcoEnergy Pros",
         "South",
         "15",
         "2023-01-01 00:00:00",
         "426 Main St",
         " Cambridge",
         " MA"
        ],
        [
         "1",
         "INST-1002",
         "CUST-504",
         "Thin-film",
         "3.72",
         "SunTech Installers",
         "East",
         "39",
         "2023-01-02 00:00:00",
         "726 Elm St",
         " Cambridge",
         " MA"
        ],
        [
         "2",
         "INST-1003",
         "CUST-502",
         "Polycrystalline",
         "5.15",
         "EcoEnergy Pros",
         "South-East",
         "32",
         "2023-01-03 00:00:00",
         "912 Oak Ave",
         " Newton",
         " MA"
        ],
        [
         "3",
         "INST-1004",
         "CUST-502",
         "Thin-film",
         "5.11",
         "EcoEnergy Pros",
         "East",
         "31",
         "2023-01-04 00:00:00",
         "928 Elm St",
         " Somerville",
         " MA"
        ],
        [
         "4",
         "INST-1005",
         "CUST-502",
         "Polycrystalline",
         "5.45",
         "EcoEnergy Pros",
         "South-East",
         "19",
         "2023-01-05 00:00:00",
         "818 Elm St",
         " Boston",
         " MA"
        ]
       ],
       "shape": {
        "columns": 11,
        "rows": 5
       }
      },
      "text/html": [
       "<div>\n",
       "<style scoped>\n",
       "    .dataframe tbody tr th:only-of-type {\n",
       "        vertical-align: middle;\n",
       "    }\n",
       "\n",
       "    .dataframe tbody tr th {\n",
       "        vertical-align: top;\n",
       "    }\n",
       "\n",
       "    .dataframe thead th {\n",
       "        text-align: right;\n",
       "    }\n",
       "</style>\n",
       "<table border=\"1\" class=\"dataframe\">\n",
       "  <thead>\n",
       "    <tr style=\"text-align: right;\">\n",
       "      <th></th>\n",
       "      <th>installation_id</th>\n",
       "      <th>customer_id</th>\n",
       "      <th>panel_type</th>\n",
       "      <th>capacity_kw</th>\n",
       "      <th>installer_name</th>\n",
       "      <th>orientation</th>\n",
       "      <th>tilt_angle</th>\n",
       "      <th>installation_date</th>\n",
       "      <th>street</th>\n",
       "      <th>city</th>\n",
       "      <th>state</th>\n",
       "    </tr>\n",
       "  </thead>\n",
       "  <tbody>\n",
       "    <tr>\n",
       "      <th>0</th>\n",
       "      <td>INST-1001</td>\n",
       "      <td>CUST-502</td>\n",
       "      <td>Polycrystalline</td>\n",
       "      <td>3.84</td>\n",
       "      <td>EcoEnergy Pros</td>\n",
       "      <td>South</td>\n",
       "      <td>15</td>\n",
       "      <td>2023-01-01</td>\n",
       "      <td>426 Main St</td>\n",
       "      <td>Cambridge</td>\n",
       "      <td>MA</td>\n",
       "    </tr>\n",
       "    <tr>\n",
       "      <th>1</th>\n",
       "      <td>INST-1002</td>\n",
       "      <td>CUST-504</td>\n",
       "      <td>Thin-film</td>\n",
       "      <td>3.72</td>\n",
       "      <td>SunTech Installers</td>\n",
       "      <td>East</td>\n",
       "      <td>39</td>\n",
       "      <td>2023-01-02</td>\n",
       "      <td>726 Elm St</td>\n",
       "      <td>Cambridge</td>\n",
       "      <td>MA</td>\n",
       "    </tr>\n",
       "    <tr>\n",
       "      <th>2</th>\n",
       "      <td>INST-1003</td>\n",
       "      <td>CUST-502</td>\n",
       "      <td>Polycrystalline</td>\n",
       "      <td>5.15</td>\n",
       "      <td>EcoEnergy Pros</td>\n",
       "      <td>South-East</td>\n",
       "      <td>32</td>\n",
       "      <td>2023-01-03</td>\n",
       "      <td>912 Oak Ave</td>\n",
       "      <td>Newton</td>\n",
       "      <td>MA</td>\n",
       "    </tr>\n",
       "    <tr>\n",
       "      <th>3</th>\n",
       "      <td>INST-1004</td>\n",
       "      <td>CUST-502</td>\n",
       "      <td>Thin-film</td>\n",
       "      <td>5.11</td>\n",
       "      <td>EcoEnergy Pros</td>\n",
       "      <td>East</td>\n",
       "      <td>31</td>\n",
       "      <td>2023-01-04</td>\n",
       "      <td>928 Elm St</td>\n",
       "      <td>Somerville</td>\n",
       "      <td>MA</td>\n",
       "    </tr>\n",
       "    <tr>\n",
       "      <th>4</th>\n",
       "      <td>INST-1005</td>\n",
       "      <td>CUST-502</td>\n",
       "      <td>Polycrystalline</td>\n",
       "      <td>5.45</td>\n",
       "      <td>EcoEnergy Pros</td>\n",
       "      <td>South-East</td>\n",
       "      <td>19</td>\n",
       "      <td>2023-01-05</td>\n",
       "      <td>818 Elm St</td>\n",
       "      <td>Boston</td>\n",
       "      <td>MA</td>\n",
       "    </tr>\n",
       "  </tbody>\n",
       "</table>\n",
       "</div>"
      ],
      "text/plain": [
       "  installation_id customer_id       panel_type  capacity_kw   \n",
       "0       INST-1001    CUST-502  Polycrystalline         3.84  \\\n",
       "1       INST-1002    CUST-504        Thin-film         3.72   \n",
       "2       INST-1003    CUST-502  Polycrystalline         5.15   \n",
       "3       INST-1004    CUST-502        Thin-film         5.11   \n",
       "4       INST-1005    CUST-502  Polycrystalline         5.45   \n",
       "\n",
       "       installer_name orientation  tilt_angle installation_date       street   \n",
       "0      EcoEnergy Pros       South          15        2023-01-01  426 Main St  \\\n",
       "1  SunTech Installers        East          39        2023-01-02   726 Elm St   \n",
       "2      EcoEnergy Pros  South-East          32        2023-01-03  912 Oak Ave   \n",
       "3      EcoEnergy Pros        East          31        2023-01-04   928 Elm St   \n",
       "4      EcoEnergy Pros  South-East          19        2023-01-05   818 Elm St   \n",
       "\n",
       "          city state  \n",
       "0    Cambridge    MA  \n",
       "1    Cambridge    MA  \n",
       "2       Newton    MA  \n",
       "3   Somerville    MA  \n",
       "4       Boston    MA  "
      ]
     },
     "execution_count": 17,
     "metadata": {},
     "output_type": "execute_result"
    }
   ],
   "source": [
    "t_solar = transform_solar_installations(solar_data)\n",
    "\n",
    "t_solar.head()"
   ]
  },
  {
   "cell_type": "code",
   "execution_count": 18,
   "id": "223d5382",
   "metadata": {},
   "outputs": [
    {
     "name": "stdout",
     "output_type": "stream",
     "text": [
      "<class 'pandas.core.frame.DataFrame'>\n",
      "RangeIndex: 100 entries, 0 to 99\n",
      "Data columns (total 11 columns):\n",
      " #   Column             Non-Null Count  Dtype         \n",
      "---  ------             --------------  -----         \n",
      " 0   installation_id    100 non-null    object        \n",
      " 1   customer_id        100 non-null    object        \n",
      " 2   panel_type         100 non-null    object        \n",
      " 3   capacity_kw        100 non-null    float64       \n",
      " 4   installer_name     100 non-null    object        \n",
      " 5   orientation        100 non-null    object        \n",
      " 6   tilt_angle         100 non-null    int64         \n",
      " 7   installation_date  100 non-null    datetime64[ns]\n",
      " 8   street             100 non-null    object        \n",
      " 9   city               100 non-null    object        \n",
      " 10  state              100 non-null    object        \n",
      "dtypes: datetime64[ns](1), float64(1), int64(1), object(8)\n",
      "memory usage: 8.7+ KB\n"
     ]
    }
   ],
   "source": [
    "t_solar.info()"
   ]
  },
  {
   "cell_type": "code",
   "execution_count": 23,
   "id": "5c845e55",
   "metadata": {},
   "outputs": [],
   "source": [
    "customer_data = extract_data(\"customer_usage.csv\")\n",
    "\n",
    "prod_data = extract_data(\"energy_production.csv\")\n",
    "\n",
    "maintenace_data = extract_data(\"maintenance_reports.csv\")\n",
    "\n",
    "solar_data = extract_data(\"solar_installations.csv\")\n",
    "\n",
    "def transform_data(customer_data: pd.DataFrame, prod_data: pd.DataFrame, maintenace_data: pd.DataFrame, solar_data: pd.DataFrame):\n",
    "    t_customer = transform_customer_usage(customer_data)\n",
    "    t_production = transform_energy_production(prod_data)\n",
    "    t_maintenance = transform_maintenance_reports(maintenace_data)\n",
    "    t_solar = transform_solar_installations(solar_data)\n",
    "    return t_customer, t_production, t_maintenance, t_solar"
   ]
  },
  {
   "cell_type": "code",
   "execution_count": 24,
   "id": "1d7cdbfc",
   "metadata": {},
   "outputs": [],
   "source": [
    "t_customer, t_production, t_maintenance, t_solar = transform_data(customer_data, prod_data, maintenace_data, solar_data)"
   ]
  },
  {
   "cell_type": "code",
   "execution_count": 25,
   "id": "0baa3683",
   "metadata": {},
   "outputs": [
    {
     "data": {
      "application/vnd.microsoft.datawrangler.viewer.v0+json": {
       "columns": [
        {
         "name": "index",
         "rawType": "int64",
         "type": "integer"
        },
        {
         "name": "usage_id",
         "rawType": "object",
         "type": "string"
        },
        {
         "name": "customer_id",
         "rawType": "object",
         "type": "string"
        },
        {
         "name": "peak_hours_kwh",
         "rawType": "int64",
         "type": "integer"
        },
        {
         "name": "off_peak_kwh",
         "rawType": "int64",
         "type": "integer"
        },
        {
         "name": "total_consumption",
         "rawType": "int64",
         "type": "integer"
        },
        {
         "name": "monthly_bill",
         "rawType": "float64",
         "type": "float"
        },
        {
         "name": "billing_date",
         "rawType": "datetime64[ns]",
         "type": "datetime"
        }
       ],
       "conversionMethod": "pd.DataFrame",
       "ref": "e602de3a-90e2-4d7b-98ec-819111b867e2",
       "rows": [
        [
         "0",
         "USE-4001",
         "CUST-501",
         "117",
         "200",
         "317",
         "103.44",
         "2023-03-01 00:00:00"
        ],
        [
         "1",
         "USE-4002",
         "CUST-502",
         "85",
         "120",
         "205",
         "72.55",
         "2023-03-02 00:00:00"
        ],
        [
         "2",
         "USE-4003",
         "CUST-503",
         "142",
         "149",
         "291",
         "94.85",
         "2023-03-03 00:00:00"
        ],
        [
         "3",
         "USE-4004",
         "CUST-504",
         "134",
         "129",
         "263",
         "89.47",
         "2023-03-04 00:00:00"
        ],
        [
         "4",
         "USE-4005",
         "CUST-505",
         "123",
         "210",
         "333",
         "108.71",
         "2023-03-05 00:00:00"
        ]
       ],
       "shape": {
        "columns": 7,
        "rows": 5
       }
      },
      "text/html": [
       "<div>\n",
       "<style scoped>\n",
       "    .dataframe tbody tr th:only-of-type {\n",
       "        vertical-align: middle;\n",
       "    }\n",
       "\n",
       "    .dataframe tbody tr th {\n",
       "        vertical-align: top;\n",
       "    }\n",
       "\n",
       "    .dataframe thead th {\n",
       "        text-align: right;\n",
       "    }\n",
       "</style>\n",
       "<table border=\"1\" class=\"dataframe\">\n",
       "  <thead>\n",
       "    <tr style=\"text-align: right;\">\n",
       "      <th></th>\n",
       "      <th>usage_id</th>\n",
       "      <th>customer_id</th>\n",
       "      <th>peak_hours_kwh</th>\n",
       "      <th>off_peak_kwh</th>\n",
       "      <th>total_consumption</th>\n",
       "      <th>monthly_bill</th>\n",
       "      <th>billing_date</th>\n",
       "    </tr>\n",
       "  </thead>\n",
       "  <tbody>\n",
       "    <tr>\n",
       "      <th>0</th>\n",
       "      <td>USE-4001</td>\n",
       "      <td>CUST-501</td>\n",
       "      <td>117</td>\n",
       "      <td>200</td>\n",
       "      <td>317</td>\n",
       "      <td>103.44</td>\n",
       "      <td>2023-03-01</td>\n",
       "    </tr>\n",
       "    <tr>\n",
       "      <th>1</th>\n",
       "      <td>USE-4002</td>\n",
       "      <td>CUST-502</td>\n",
       "      <td>85</td>\n",
       "      <td>120</td>\n",
       "      <td>205</td>\n",
       "      <td>72.55</td>\n",
       "      <td>2023-03-02</td>\n",
       "    </tr>\n",
       "    <tr>\n",
       "      <th>2</th>\n",
       "      <td>USE-4003</td>\n",
       "      <td>CUST-503</td>\n",
       "      <td>142</td>\n",
       "      <td>149</td>\n",
       "      <td>291</td>\n",
       "      <td>94.85</td>\n",
       "      <td>2023-03-03</td>\n",
       "    </tr>\n",
       "    <tr>\n",
       "      <th>3</th>\n",
       "      <td>USE-4004</td>\n",
       "      <td>CUST-504</td>\n",
       "      <td>134</td>\n",
       "      <td>129</td>\n",
       "      <td>263</td>\n",
       "      <td>89.47</td>\n",
       "      <td>2023-03-04</td>\n",
       "    </tr>\n",
       "    <tr>\n",
       "      <th>4</th>\n",
       "      <td>USE-4005</td>\n",
       "      <td>CUST-505</td>\n",
       "      <td>123</td>\n",
       "      <td>210</td>\n",
       "      <td>333</td>\n",
       "      <td>108.71</td>\n",
       "      <td>2023-03-05</td>\n",
       "    </tr>\n",
       "  </tbody>\n",
       "</table>\n",
       "</div>"
      ],
      "text/plain": [
       "   usage_id customer_id  peak_hours_kwh  off_peak_kwh  total_consumption   \n",
       "0  USE-4001    CUST-501             117           200                317  \\\n",
       "1  USE-4002    CUST-502              85           120                205   \n",
       "2  USE-4003    CUST-503             142           149                291   \n",
       "3  USE-4004    CUST-504             134           129                263   \n",
       "4  USE-4005    CUST-505             123           210                333   \n",
       "\n",
       "   monthly_bill billing_date  \n",
       "0        103.44   2023-03-01  \n",
       "1         72.55   2023-03-02  \n",
       "2         94.85   2023-03-03  \n",
       "3         89.47   2023-03-04  \n",
       "4        108.71   2023-03-05  "
      ]
     },
     "execution_count": 25,
     "metadata": {},
     "output_type": "execute_result"
    }
   ],
   "source": [
    "t_customer.head()"
   ]
  },
  {
   "cell_type": "code",
   "execution_count": 21,
   "id": "955759bd",
   "metadata": {},
   "outputs": [],
   "source": [
    "# Load the data\n",
    "def load_data(df):\n",
    "    pass"
   ]
  }
 ],
 "metadata": {
  "kernelspec": {
   "display_name": "geo_soft_conda",
   "language": "python",
   "name": "python3"
  },
  "language_info": {
   "codemirror_mode": {
    "name": "ipython",
    "version": 3
   },
   "file_extension": ".py",
   "mimetype": "text/x-python",
   "name": "python",
   "nbconvert_exporter": "python",
   "pygments_lexer": "ipython3",
   "version": "3.10.10"
  }
 },
 "nbformat": 4,
 "nbformat_minor": 5
}
